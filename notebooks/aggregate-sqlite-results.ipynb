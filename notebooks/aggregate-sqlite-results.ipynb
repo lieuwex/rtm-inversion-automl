{
 "cells": [
  {
   "cell_type": "markdown",
   "id": "cf52652e",
   "metadata": {},
   "source": [
    "# Imports"
   ]
  },
  {
   "cell_type": "markdown",
   "id": "76196133",
   "metadata": {},
   "source": [
    "Import the packages we need"
   ]
  },
  {
   "cell_type": "code",
   "execution_count": null,
   "id": "4fadae24",
   "metadata": {
    "scrolled": false
   },
   "outputs": [],
   "source": [
    "import numpy as np\n",
    "import pickle\n",
    "import pandas as pd\n",
    "from sqlite3 import connect\n",
    "import json"
   ]
  },
  {
   "cell_type": "markdown",
   "id": "798016ab",
   "metadata": {},
   "source": [
    "Weird little matplotlib dance..."
   ]
  },
  {
   "cell_type": "code",
   "execution_count": null,
   "id": "23a300b6",
   "metadata": {
    "scrolled": false
   },
   "outputs": [],
   "source": [
    "import matplotlib.pyplot as plt\n",
    "import seaborn as sns\n",
    "\n",
    "df = pd.DataFrame(data={ 'x': [1], 'y': [1] })\n",
    "sns.scatterplot(data=df, x=\"x\", y=\"y\")"
   ]
  },
  {
   "cell_type": "code",
   "execution_count": null,
   "id": "6645f893",
   "metadata": {
    "scrolled": false
   },
   "outputs": [],
   "source": [
    "import matplotlib\n",
    "matplotlib.use(\"pgf\")\n",
    "matplotlib.rcParams.update({\n",
    "    \"pgf.texsystem\": \"pdflatex\",\n",
    "    'font.family': 'serif',\n",
    "    'text.usetex': True,\n",
    "    'pgf.rcfonts': False,\n",
    "})"
   ]
  },
  {
   "cell_type": "markdown",
   "id": "f5b2fbcc",
   "metadata": {},
   "source": [
    "Create `graphs` folder if it not exists"
   ]
  },
  {
   "cell_type": "code",
   "execution_count": null,
   "id": "4b8bb5df",
   "metadata": {},
   "outputs": [],
   "source": [
    "import os\n",
    "if not os.path.exists('graphs'):\n",
    "    os.makedirs('graphs')"
   ]
  },
  {
   "cell_type": "markdown",
   "id": "40cc2e03",
   "metadata": {},
   "source": [
    "# Functions"
   ]
  },
  {
   "cell_type": "markdown",
   "id": "78da8f55",
   "metadata": {},
   "source": [
    "Here we define some helper functions that are required"
   ]
  },
  {
   "cell_type": "code",
   "execution_count": null,
   "id": "c769f4e1",
   "metadata": {
    "scrolled": false
   },
   "outputs": [],
   "source": [
    "# https://stackoverflow.com/a/56253636/3142952\n",
    "\n",
    "def legend_without_duplicate_labels(ax):\n",
    "    handles, labels = ax.get_legend_handles_labels()\n",
    "    unique = [(h, l) for i, (h, l) in enumerate(zip(handles, labels)) if l not in labels[:i]]\n",
    "    ax.legend(*zip(*unique))"
   ]
  },
  {
   "cell_type": "code",
   "execution_count": null,
   "id": "17f5d3c0",
   "metadata": {
    "scrolled": false
   },
   "outputs": [],
   "source": [
    "def plot_scatter(y_test, yhat, var, name):\n",
    "    def get_x_y_color():\n",
    "        if y_test.shape[1] == 1 and var == 'agb':\n",
    "            return (y_test[:,0], yhat[:,0], 'green')\n",
    "        \n",
    "        if var == 'lai':\n",
    "            return (y_test[:,0], yhat[:,0], 'blue')\n",
    "        elif var == 'cm':\n",
    "            return (y_test[:,1], yhat[:,1], 'orange')\n",
    "        elif var == 'agb':\n",
    "            return (y_test[:,0]*y_test[:,1], yhat[:,0]*yhat[:,1], 'green')\n",
    "    \n",
    "    fig, ax = plt.subplots(figsize=(6, 4))\n",
    "    \n",
    "    x, y, color = get_x_y_color()\n",
    "    \n",
    "    plt.xlim([np.min(x), np.max(x)])\n",
    "    plt.ylim([np.min(x), np.max(x)])\n",
    "    \n",
    "    sns.scatterplot(x=x, y=y, color=color, palette='pastel')\n",
    "    plt.xlabel(\"Actual value\")\n",
    "    plt.ylabel(\"Predicted value\")\n",
    "    \n",
    "    plt.savefig('graphs/{}.pdf'.format(name))"
   ]
  },
  {
   "cell_type": "code",
   "execution_count": null,
   "id": "4b71e7dd",
   "metadata": {
    "scrolled": false
   },
   "outputs": [],
   "source": [
    "import collections\n",
    "\n",
    "def flatten(d, parent_key='', sep='_'):\n",
    "    items = []\n",
    "    for k, v in d.items():\n",
    "        new_key = parent_key + sep + k if parent_key else k\n",
    "        if isinstance(v, collections.MutableMapping):\n",
    "            items.extend(flatten(v, new_key, sep=sep).items())\n",
    "        else:\n",
    "            items.append((new_key, v))\n",
    "    return dict(items)\n",
    "\n",
    "def explode_dicts(train, test):\n",
    "    return flatten({\n",
    "        'train': train,\n",
    "        'test': test,\n",
    "    })"
   ]
  },
  {
   "cell_type": "code",
   "execution_count": null,
   "id": "0b22f5eb",
   "metadata": {
    "scrolled": false
   },
   "outputs": [],
   "source": [
    "def map_df_table(df, pairs):\n",
    "    df = df.groupby('model_name_alt', sort=False).describe()\n",
    "    dfs = [ df[tpl[0]].reset_index() for tpl in pairs ]\n",
    "\n",
    "    def maprow(row):\n",
    "        if np.isnan(row['mean']):\n",
    "            return np.nan\n",
    "\n",
    "        return \"{:,.4f} ($\\sigma$ = {:,.4f})\".format(row['mean'], row['std'])\n",
    "\n",
    "    items = []\n",
    "    for i in range(len(dfs[0])):\n",
    "        xs = [ x.iloc[i] for x in dfs ]\n",
    "        xs_mapped = [ maprow(x) for x in xs ]\n",
    "\n",
    "        items.append([ xs[0]['model_name_alt'], *xs_mapped ])\n",
    "\n",
    "    df = pd.DataFrame(data=items, columns=['Model', *[tpl[1] for tpl in pairs]], copy=False)\n",
    "    df = df.set_index('Model')\n",
    "    return df"
   ]
  },
  {
   "cell_type": "markdown",
   "id": "1abdf3e0",
   "metadata": {},
   "source": [
    "# Load data"
   ]
  },
  {
   "cell_type": "markdown",
   "id": "72f21f0f",
   "metadata": {},
   "source": [
    "Connect to the sqlite3 database"
   ]
  },
  {
   "cell_type": "code",
   "execution_count": null,
   "id": "0d39b5c1",
   "metadata": {
    "scrolled": false
   },
   "outputs": [],
   "source": [
    "conn = connect('./db.db')"
   ]
  },
  {
   "cell_type": "markdown",
   "id": "f022e281",
   "metadata": {},
   "source": [
    "If this is uncommented we can use this instead of gathering the data from the sqlite3 db.\n",
    "This file is written in the code cell after the next one (the one that fetches the data from the database)"
   ]
  },
  {
   "cell_type": "code",
   "execution_count": null,
   "id": "76d5d45f",
   "metadata": {
    "scrolled": false
   },
   "outputs": [],
   "source": [
    "#all_df = pd.read_csv('./cross-results-test.csv', index_col=0)"
   ]
  },
  {
   "cell_type": "markdown",
   "id": "6e0aa397",
   "metadata": {},
   "source": [
    "Fetch the data from the database, this can be skipped if the previous cell is ran.\n",
    "\n",
    "This cell takes a little while to run, so a csv file is written to skip this if you want to rerun the notebook."
   ]
  },
  {
   "cell_type": "code",
   "execution_count": null,
   "id": "e6605fa2",
   "metadata": {
    "scrolled": false
   },
   "outputs": [],
   "source": [
    "%%time\n",
    "\n",
    "all_matrix = []\n",
    "def apply(cursor):\n",
    "    for row in cursor:\n",
    "        all_matrix.append({\n",
    "            'model': row[0],\n",
    "            'tag': row[1],\n",
    "            'param': row[2],\n",
    "            'train_time': row[3],\n",
    "            'run_time': row[4],\n",
    "            **flatten({\n",
    "                'art': {\n",
    "                    'train': json.loads(row[5]),\n",
    "                    'test': json.loads(row[6]),\n",
    "                },\n",
    "                'field': {\n",
    "                    'test': json.loads(row[7] or '{}'),\n",
    "                },\n",
    "            }),\n",
    "            'run_id': row[8],\n",
    "            'method_specific': json.loads(row[9]),\n",
    "        })\n",
    "\n",
    "apply(conn.execute(\n",
    "'''\n",
    "SELECT\n",
    "\trun.model,\n",
    "\trun.tag,\n",
    "\tJSON_EXTRACT(art_row.res, '$.param') AS param,\n",
    "\tJSON_EXTRACT(art_row.res, '$.taken') AS train_time,\n",
    "\tJSON_EXTRACT(field_row.res, '$.taken') AS run_time,\n",
    "\tJSON_EXTRACT(art_row.res, '$.train_err') AS art_train_err,\n",
    "\tJSON_EXTRACT(art_row.res, '$.test_err') AS art_test_err,\n",
    "\tJSON_EXTRACT(field_row.res, '$.test_err') AS field_test_err,\n",
    "\trun.run_id,\n",
    "    JSON_EXTRACT(art_row.res, '$.method_specific') AS art_method_specific\n",
    "FROM rows AS art_row\n",
    "LEFT JOIN rerun_rows AS field_row\n",
    "\tON field_row.run_id=art_row.run_id AND field_row.iter=art_row.iter\n",
    "JOIN runs AS run\n",
    "\tON art_row.run_id=run.run_id\n",
    "WHERE run.test_size = 0.5\n",
    "'''\n",
    "))\n",
    "    \n",
    "all_df = pd.DataFrame(data=all_matrix, copy=False)\n",
    "all_df.to_csv('./cross-results-test.csv')"
   ]
  },
  {
   "cell_type": "markdown",
   "id": "681e865b",
   "metadata": {},
   "source": [
    "- Convert MAPE values from fractions to percentages.\n",
    "- Fix the RMSE values being wrong, the database contains MSE values. So we convert them to RMSE by taking the square root of all the values."
   ]
  },
  {
   "cell_type": "code",
   "execution_count": null,
   "id": "57f8306c",
   "metadata": {
    "scrolled": false
   },
   "outputs": [],
   "source": [
    "all_df[all_df.filter(regex='.+_mape_.+').columns] *= 100\n",
    "all_df[all_df.filter(regex='.+_rmse_.+').columns] **= 1/2"
   ]
  },
  {
   "cell_type": "markdown",
   "id": "f84168f9",
   "metadata": {},
   "source": [
    "Per row:\n",
    "- Set the model name column\n",
    "- Set the alternative model name column (this one contains 'single-output')\n",
    "\n",
    "Then the rows are sorted by a specified order for the models, so they all figures follow the same ordering of the models as the thesis' text is structured around."
   ]
  },
  {
   "cell_type": "code",
   "execution_count": null,
   "id": "39b4e336",
   "metadata": {
    "scrolled": false
   },
   "outputs": [],
   "source": [
    "def handle_row(x):\n",
    "    model = x.model\n",
    "\n",
    "    if model == 'rf':\n",
    "        return ('Random forests', 'Random forests', 0)\n",
    "    elif model == 'gp':\n",
    "        return ('Gaussian process', 'Gaussian process', 1)\n",
    "    elif model == 'ak':\n",
    "        return ('AutoKeras', 'AutoKeras', 2)\n",
    "    elif model == 'ask':\n",
    "        return ('Auto-sklearn', 'Auto-sklearn', 3)\n",
    "    elif model == 'rf_agb':\n",
    "        return ('Random forests', 'Random forests single-output', 4)\n",
    "    elif model == 'gp_agb':\n",
    "        return ('Gaussian process', 'Gaussian process single-output', 5)\n",
    "    elif model == 'ak_agb':\n",
    "        return ('AutoKeras', 'AutoKeras single-output', 6)\n",
    "    elif model == 'ask_agb':\n",
    "        return ('Auto-sklearn', 'Auto-sklearn single-output', 7)\n",
    "\n",
    "for i in all_df.index:\n",
    "    (model_name, model_name_alt, model_index) = handle_row(all_df.iloc[i])\n",
    "    all_df.at[i, 'model_name'] = model_name\n",
    "    all_df.at[i, 'model_name_alt'] = model_name_alt\n",
    "    all_df.at[i, 'model_index'] = model_index\n",
    "    \n",
    "all_df.sort_values(by='model_index', inplace=True, kind='stable')"
   ]
  },
  {
   "cell_type": "markdown",
   "id": "62c1eeee",
   "metadata": {},
   "source": [
    "Create some useful dataframes that point to `all_df`:\n",
    "- `baseline_df` contains the rows for the baseline models.\n",
    "- `baseline_df_multi` contains the rows for the multi-output baseline models.\n",
    "- `baseline_df_single` contains the rows for the single-output baseline models."
   ]
  },
  {
   "cell_type": "code",
   "execution_count": null,
   "id": "94f6851f",
   "metadata": {
    "scrolled": false
   },
   "outputs": [],
   "source": [
    "baseline_df = all_df.query('((model != \"ak\" & model != \"ak_agb\") & param == 16000) | ((model == \"ak\" | model == \"ak_agb\") & param == 250)')\n",
    "baseline_df_multi = baseline_df.query('model != \"ak_agb\" and model != \"ask_agb\" and model != \"rf_agb\" and model != \"gp_agb\"')\n",
    "baseline_df_single = baseline_df.query('model == \"ak_agb\" or model == \"ask_agb\" or model == \"rf_agb\" or model == \"gp_agb\"')"
   ]
  },
  {
   "cell_type": "markdown",
   "id": "9a3a0f72",
   "metadata": {},
   "source": [
    "Get the raw rows for the baseline models (we call these rows 'items'), these rows contain method-specific results which are used in the auxilary results graphs.\n",
    "\n",
    "The function `get_items` is also used in some places to get the data for _all_ the models, not just the baseline.\n",
    "\n",
    "`get_items` returns a generator, so one can efficiently use all the results with low memory overhead."
   ]
  },
  {
   "cell_type": "code",
   "execution_count": null,
   "id": "aebc2ee7",
   "metadata": {
    "scrolled": false
   },
   "outputs": [],
   "source": [
    "def get_items(model, param):\n",
    "    query = '''\n",
    "    SELECT\n",
    "        art_row.res,\n",
    "        field_row.res\n",
    "    FROM rows AS art_row\n",
    "    LEFT JOIN rerun_rows AS field_row\n",
    "        ON field_row.run_id=art_row.run_id AND field_row.iter=art_row.iter\n",
    "    JOIN runs AS run\n",
    "        ON art_row.run_id=run.run_id\n",
    "    WHERE\n",
    "        run.test_size = 0.5\n",
    "        AND run.model = \"{model}\"\n",
    "        AND tag = \"norm\"\n",
    "    '''.format(model=model)\n",
    "    if param is not None:\n",
    "        query += ' AND run.params = {param}'.format(param=param)\n",
    "    \n",
    "    cur = conn.execute(query)\n",
    "    return ({ 'art': json.loads(row[0]), 'field': json.loads(row[1] or '{}') } for row in cur)"
   ]
  },
  {
   "cell_type": "code",
   "execution_count": null,
   "id": "51b6764b",
   "metadata": {
    "scrolled": false
   },
   "outputs": [],
   "source": [
    "ak_items = list(list(get_items('ak', 250)))\n",
    "ak_agb_items = list(list(get_items('ak_agb', 250)))"
   ]
  },
  {
   "cell_type": "code",
   "execution_count": null,
   "id": "a0805030",
   "metadata": {
    "scrolled": false
   },
   "outputs": [],
   "source": [
    "ask_items = list(list(get_items('ask', 16000)))\n",
    "ask_agb_items = list(list(get_items('ask_agb', 16000)))"
   ]
  },
  {
   "cell_type": "code",
   "execution_count": null,
   "id": "b413ef67",
   "metadata": {
    "scrolled": false
   },
   "outputs": [],
   "source": [
    "rf_items = list(get_items('rf', 16000))\n",
    "rf_agb_items = list(get_items('rf_agb', 16000))"
   ]
  },
  {
   "cell_type": "code",
   "execution_count": null,
   "id": "c47056a1",
   "metadata": {
    "scrolled": false
   },
   "outputs": [],
   "source": [
    "gp_items = list(get_items('gp', 16000))\n",
    "gp_agb_items = list(get_items('gp_agb', 16000))"
   ]
  },
  {
   "cell_type": "markdown",
   "id": "14509de0",
   "metadata": {},
   "source": [
    "Show an example of the method specific results per model"
   ]
  },
  {
   "cell_type": "code",
   "execution_count": null,
   "id": "1566c7fb",
   "metadata": {},
   "outputs": [],
   "source": [
    "print('ak', ak_items[0]['art']['method_specific'])\n",
    "print('ask', ask_items[0]['art']['method_specific'])\n",
    "print('rf', rf_items[0]['art']['method_specific'])\n",
    "print('gp', gp_items[0]['art']['method_specific'])"
   ]
  },
  {
   "cell_type": "markdown",
   "id": "26cb45e6",
   "metadata": {},
   "source": [
    "# Artificial data"
   ]
  },
  {
   "cell_type": "markdown",
   "id": "f75ef349",
   "metadata": {},
   "source": [
    "## Combined results"
   ]
  },
  {
   "cell_type": "code",
   "execution_count": null,
   "id": "37d0e1cc",
   "metadata": {
    "scrolled": false
   },
   "outputs": [],
   "source": [
    "fig, ax = plt.subplots(figsize=(6, 4))\n",
    "\n",
    "plt.ylim([5,30])\n",
    "\n",
    "df = all_df.query('tag == \"norm\" and (model == \"ak\" or model == \"ask\" or model == \"gp\" or model == \"rf\")')\n",
    "sns.regplot(x=\"train_time\", y=\"art_test_mape_product\", data=df.query('model == \"gp\"'), logx=True, scatter=False, label=\"Gaussian process\")\n",
    "sns.regplot(x=\"train_time\", y=\"art_test_mape_product\", data=df.query('model == \"rf\"'), logx=True, scatter=False, label=\"Random forests\")\n",
    "sns.regplot(x=\"train_time\", y=\"art_test_mape_product\", data=df.query('model == \"ak\"'), logx=True, scatter=False, label=\"AutoKeras\")\n",
    "sns.regplot(x=\"train_time\", y=\"art_test_mape_product\", data=df.query('model == \"ask\"'), logx=True, scatter=False, label=\"Auto-sklearn\")\n",
    "\n",
    "plt.xlabel(\"Time taken (s)\")\n",
    "plt.ylabel(\"AGB Mean absolute percentage error (%)\")\n",
    "ax.legend()\n",
    "\n",
    "plt.savefig('graphs/all-art-time-logx-mean.pdf')"
   ]
  },
  {
   "cell_type": "code",
   "execution_count": null,
   "id": "72b752a0",
   "metadata": {
    "scrolled": false
   },
   "outputs": [],
   "source": [
    "fig, ax = plt.subplots(figsize=(6, 4))\n",
    "\n",
    "plt.ylim([5,30])\n",
    "\n",
    "df = all_df.query('tag == \"norm\" and (model == \"ak\" or model == \"ask\" or model == \"gp\" or model == \"rf\")')\n",
    "sns.scatterplot(x=\"train_time\", y=\"art_test_mape_product\", data=df, hue='model_name')\n",
    "\n",
    "plt.xlabel(\"Time taken (s)\")\n",
    "plt.ylabel(\"AGB Mean absolute percentage error (%)\")\n",
    "ax.legend()\n",
    "\n",
    "plt.savefig('graphs/all-art-time-scatter-mean.pdf')"
   ]
  },
  {
   "cell_type": "code",
   "execution_count": null,
   "id": "ba83e161",
   "metadata": {
    "scrolled": true
   },
   "outputs": [],
   "source": [
    "fig, ax = plt.subplots(figsize=(6, 4))\n",
    "\n",
    "df = all_df.query('tag == \"norm\" and (model == \"ak\" or model == \"ask\" or model == \"gp\" or model == \"rf\")')\n",
    "sns.scatterplot(x=\"train_time\", y=\"art_test_mape_product\", data=df, hue='model_name')\n",
    "\n",
    "plt.xlabel(\"Time taken (s)\")\n",
    "plt.ylabel(\"AGB Mean absolute percentage error (%)\")\n",
    "ax.legend()\n",
    "\n",
    "plt.savefig('graphs/all-art-time-scatter-multi.pdf')"
   ]
  },
  {
   "cell_type": "code",
   "execution_count": null,
   "id": "37f85748",
   "metadata": {
    "scrolled": true
   },
   "outputs": [],
   "source": [
    "fig, ax = plt.subplots(figsize=(6, 4))\n",
    "\n",
    "plt.ylim([10,30])\n",
    "\n",
    "df = all_df.query('tag == \"norm\" and (model == \"ak\" or model == \"ask\" or model == \"gp\" or model == \"rf\")')\n",
    "for i in df.index:\n",
    "    df.at[i, 'train_time'] = round(all_df.iloc[i].train_time / 500) * 500\n",
    "\n",
    "sns.lineplot(x=\"train_time\", y=\"art_test_mape_product\", data=df, hue='model_name')\n",
    "\n",
    "plt.xlabel(\"Time taken (s)\")\n",
    "plt.ylabel(\"AGB Mean absolute percentage error (%)\")\n",
    "ax.legend()\n",
    "\n",
    "plt.savefig('graphs/all-art-time-line-multi.pdf')"
   ]
  },
  {
   "cell_type": "code",
   "execution_count": null,
   "id": "ddae5cc6",
   "metadata": {
    "scrolled": true
   },
   "outputs": [],
   "source": [
    "fig, ax = plt.subplots(figsize=(6, 4))\n",
    "\n",
    "df = all_df.query('tag == \"norm\" and (model == \"ak_agb\" or model == \"ask_agb\" or model == \"gp_agb\" or model == \"rf_agb\")')\n",
    "sns.scatterplot(x=\"train_time\", y=\"art_test_mape_product\", data=df, hue='model_name')\n",
    "\n",
    "plt.xlabel(\"Time taken (s)\")\n",
    "plt.ylabel(\"AGB Mean absolute percentage error (%)\")\n",
    "ax.legend()\n",
    "\n",
    "plt.savefig('graphs/all-art-time-scatter-single.pdf')"
   ]
  },
  {
   "cell_type": "code",
   "execution_count": null,
   "id": "e1633220",
   "metadata": {
    "scrolled": false
   },
   "outputs": [],
   "source": [
    "fig, ax = plt.subplots(figsize=(6, 4))\n",
    "\n",
    "plt.ylim([10,30])\n",
    "\n",
    "df = all_df.query('tag == \"norm\" and (model == \"ak_agb\" or model == \"ask_agb\" or model == \"gp_agb\" or model == \"rf_agb\")')\n",
    "for i in df.index:\n",
    "    df.at[i, 'train_time'] = round(all_df.iloc[i].train_time / 500) * 500\n",
    "\n",
    "sns.lineplot(x=\"train_time\", y=\"art_test_mape_product\", data=df, hue='model_name')\n",
    "\n",
    "plt.xlabel(\"Time taken (s)\")\n",
    "plt.ylabel(\"AGB Mean absolute percentage error (%)\")\n",
    "ax.legend()\n",
    "\n",
    "plt.savefig('graphs/all-art-time-line-single.pdf')"
   ]
  },
  {
   "cell_type": "code",
   "execution_count": null,
   "id": "de96b540",
   "metadata": {
    "scrolled": true
   },
   "outputs": [],
   "source": [
    "fig, ax = plt.subplots(figsize=(6, 6))\n",
    "\n",
    "plt.xlim([0, 60*40])\n",
    "\n",
    "ak_df = all_df.query('model == \"ak\" and tag == \"norm\"')\n",
    "sns.scatterplot(x=\"train_time\", y=\"art_test_mape_product\", data=ak_df, label=\"AutoKeras\")\n",
    "ak_df = None\n",
    "\n",
    "ask_df = all_df.query('model == \"ask\" and tag == \"norm\"')\n",
    "sns.scatterplot(x=\"train_time\", y=\"art_test_mape_product\", data=ask_df, label=\"Auto-sklearn\")\n",
    "ask_df = None\n",
    "\n",
    "plt.xlabel(\"Time taken (s)\")\n",
    "plt.ylabel(\"AGB Mean absolute percentage error (%)\")\n",
    "ax.legend()\n",
    "\n",
    "plt.savefig('graphs/automl-art-time-scatter.pdf')"
   ]
  },
  {
   "cell_type": "code",
   "execution_count": null,
   "id": "c764c4e3",
   "metadata": {
    "scrolled": false
   },
   "outputs": [],
   "source": [
    "fig, ax = plt.subplots(figsize=(6, 4))\n",
    "\n",
    "plt.xlim([0, 60*40])\n",
    "\n",
    "ak_df = all_df.query('model == \"ak\" and tag == \"norm\"')\n",
    "sns.regplot(x=\"train_time\", y=\"art_test_mape_product\", data=ak_df, label=\"AutoKeras\", logx=True, scatter=False)\n",
    "ak_df = None\n",
    "\n",
    "ask_df = all_df.query('model == \"ask\" and tag == \"norm\"')\n",
    "sns.regplot(x=\"train_time\", y=\"art_test_mape_product\", data=ask_df, label=\"Auto-sklearn\", logx=True, scatter=False)\n",
    "ask_df = None\n",
    "\n",
    "plt.xlabel(\"Time taken (s)\")\n",
    "plt.ylabel(\"AGB Mean absolute percentage error (%)\")\n",
    "ax.legend()\n",
    "\n",
    "plt.savefig('graphs/automl-art-time-logx.pdf')"
   ]
  },
  {
   "cell_type": "code",
   "execution_count": null,
   "id": "1fc1cb54",
   "metadata": {
    "scrolled": false
   },
   "outputs": [],
   "source": [
    "fig, ax = plt.subplots(figsize=(6, 4))\n",
    "\n",
    "plt.xlim([0, 60*40])\n",
    "\n",
    "ak_df = all_df.query('model == \"ak\" and tag == \"norm\"')\n",
    "sns.regplot(x=\"train_time\", y=\"art_test_rmse_product\", data=ak_df, label=\"AutoKeras\", logx=True, scatter=False)\n",
    "ak_df = None\n",
    "\n",
    "ask_df = all_df.query('model == \"ask\" and tag == \"norm\"')\n",
    "sns.regplot(x=\"train_time\", y=\"art_test_rmse_product\", data=ask_df, label=\"Auto-sklearn\", logx=True, scatter=False)\n",
    "ask_df = None\n",
    "\n",
    "plt.xlabel(\"Time taken (s)\")\n",
    "plt.ylabel(\"AGB Mean absolute percentage error (%)\")\n",
    "ax.legend()\n",
    "\n",
    "plt.savefig('graphs/automl-art-time-logx-rmse.pdf')"
   ]
  },
  {
   "cell_type": "code",
   "execution_count": null,
   "id": "704765fd",
   "metadata": {
    "scrolled": true
   },
   "outputs": [],
   "source": [
    "fig, ax = plt.subplots(figsize=(6, 4))\n",
    "\n",
    "plt.ylim([0, 25])\n",
    "\n",
    "sns.stripplot(x=\"model_name\", y=\"art_test_mape_lai\", data=baseline_df_multi.query('tag == \"norm\"'), color='blue', label='LAI')\n",
    "sns.stripplot(x=\"model_name\", y=\"art_test_mape_cm\", data=baseline_df_multi.query('tag == \"norm\"'), color='orange', label='cm')\n",
    "sns.stripplot(x=\"model_name\", y=\"art_test_mape_product\", data=baseline_df_multi.query('tag == \"norm\"'), color='green', label='AGB')\n",
    "\n",
    "plt.xlabel(\"Model\")\n",
    "plt.ylabel(\"Mean absolute percentage error (%)\")\n",
    "\n",
    "legend_without_duplicate_labels(ax)\n",
    "\n",
    "plt.savefig('graphs/models-strip-art-multi.pdf')"
   ]
  },
  {
   "cell_type": "code",
   "execution_count": null,
   "id": "acebf392",
   "metadata": {
    "scrolled": false
   },
   "outputs": [],
   "source": [
    "fig, ax = plt.subplots(figsize=(6, 4))\n",
    "\n",
    "plt.ylim([0, 25])\n",
    "\n",
    "sns.stripplot(x=\"model_name\", y=\"art_test_mape_product\", data=baseline_df_single.query('tag == \"norm\"'), color='green', label='AGB')\n",
    "\n",
    "plt.xlabel(\"Model\")\n",
    "plt.ylabel(\"Mean absolute percentage error (%)\")\n",
    "\n",
    "legend_without_duplicate_labels(ax)\n",
    "\n",
    "plt.savefig('graphs/models-strip-art-single.pdf')"
   ]
  },
  {
   "cell_type": "code",
   "execution_count": null,
   "id": "5f033941",
   "metadata": {
    "scrolled": false
   },
   "outputs": [],
   "source": [
    "out = map_df_table(\n",
    "    baseline_df.query('tag == \"norm\"'),\n",
    "    [ ('art_test_rmse_lai', 'LAI RMSE')\n",
    "    , ('art_test_rmse_cm', '$C_m$ [g cm$^{-2}$] RMSE')\n",
    "    , ('art_test_rmse_product', 'AGB [g cm$^{-2}$] RMSE')\n",
    "    ]\n",
    ")\n",
    "print(out.to_latex(bold_rows=True, na_rep='', escape=False), file = open('graphs/all-art-rmse.tex', 'w'))\n",
    "out"
   ]
  },
  {
   "cell_type": "code",
   "execution_count": null,
   "id": "b2fa5269",
   "metadata": {
    "scrolled": false
   },
   "outputs": [],
   "source": [
    "out = map_df_table(\n",
    "    baseline_df.query('tag == \"norm\"'),\n",
    "    [ ('art_test_mae_lai', 'LAI MAE')\n",
    "    , ('art_test_mae_cm', '$C_m$ [g cm$^{-2}$] MAE')\n",
    "    , ('art_test_mae_product', 'AGB [g cm$^{-2}$] MAE')\n",
    "    ]\n",
    ")\n",
    "print(out.to_latex(bold_rows=True, na_rep='', escape=False), file = open('graphs/all-art-mae.tex', 'w'))\n",
    "out"
   ]
  },
  {
   "cell_type": "code",
   "execution_count": null,
   "id": "d6373f57",
   "metadata": {
    "scrolled": false
   },
   "outputs": [],
   "source": [
    "out = map_df_table(\n",
    "    baseline_df.query('tag == \"norm\"'),\n",
    "    [ ('art_test_mape_lai', 'LAI MAPE')\n",
    "    , ('art_test_mape_cm', '$C_m$ [g cm$^{-2}$] MAPE')\n",
    "    , ('art_test_mape_product', 'AGB [g cm$^{-2}$] MAPE')\n",
    "    ]\n",
    ")\n",
    "print(out.to_latex(bold_rows=True, na_rep='', escape=False), file = open('graphs/all-art-mape.tex', 'w'))\n",
    "out"
   ]
  },
  {
   "cell_type": "markdown",
   "id": "bceb486e",
   "metadata": {},
   "source": [
    "## AutoKeras"
   ]
  },
  {
   "cell_type": "code",
   "execution_count": null,
   "id": "910a1884",
   "metadata": {
    "scrolled": false
   },
   "outputs": [],
   "source": [
    "fig, ax = plt.subplots(figsize=(6, 4))\n",
    "\n",
    "plt.ylim([0, 50])\n",
    "\n",
    "df = all_df.query('tag == \"norm\" and model == \"ak\"')\n",
    "for i in df.index:\n",
    "    df.at[i, 'train_time'] = round(all_df.iloc[i].train_time / 500) * 500\n",
    "\n",
    "sns.lineplot(data=df, x=\"train_time\", y=\"art_test_mape_lai\", label=\"LAI\")\n",
    "sns.lineplot(data=df, x=\"train_time\", y=\"art_test_mape_cm\", label=\"cm\")\n",
    "sns.lineplot(data=df, x=\"train_time\", y=\"art_test_mape_product\", label=\"AGB\")\n",
    "\n",
    "plt.xlabel(\"Time taken (s)\")\n",
    "plt.ylabel(\"Mean absolute percentage error (%)\")\n",
    "ax.legend()\n",
    "\n",
    "plt.savefig('graphs/autokeras-art-time.pdf')"
   ]
  },
  {
   "cell_type": "code",
   "execution_count": null,
   "id": "5bf2377c",
   "metadata": {
    "scrolled": false
   },
   "outputs": [],
   "source": [
    "fig, ax = plt.subplots(figsize=(6, 4))\n",
    "\n",
    "plt.ylim([0, 50])\n",
    "\n",
    "df = all_df.query('tag == \"norm\" and model == \"ak_agb\"')\n",
    "for i in df.index:\n",
    "    df.at[i, 'train_time'] = round(all_df.iloc[i].train_time / 500) * 500\n",
    "\n",
    "sns.lineplot(data=df, x=\"train_time\", y=\"art_test_mape_product\", label=\"AGB\", color='green')\n",
    "\n",
    "plt.xlabel(\"Time taken (s)\")\n",
    "plt.ylabel(\"Mean absolute percentage error (%)\")\n",
    "ax.legend()\n",
    "\n",
    "plt.savefig('graphs/autokeras-art-time-single.pdf')"
   ]
  },
  {
   "cell_type": "code",
   "execution_count": null,
   "id": "7b526785",
   "metadata": {
    "scrolled": false
   },
   "outputs": [],
   "source": [
    "fig, ax = plt.subplots(figsize=(6, 4))\n",
    "\n",
    "df = all_df.query('tag == \"norm\" and model == \"ak\"')\n",
    "for i in df.index:\n",
    "    df.at[i, 'train_time'] = round(all_df.iloc[i].train_time / 500) * 500\n",
    "\n",
    "sns.lineplot(data=df, x=\"train_time\", y=\"art_test_mape_product\", label=\"AGB\", color='green')\n",
    "\n",
    "plt.xlabel(\"Time taken (s)\")\n",
    "plt.ylabel(\"Mean absolute percentage error (%)\")\n",
    "ax.legend()\n",
    "\n",
    "plt.savefig('graphs/autokeras-art-time-agb.pdf')"
   ]
  },
  {
   "cell_type": "code",
   "execution_count": null,
   "id": "eff62508",
   "metadata": {
    "scrolled": false
   },
   "outputs": [],
   "source": [
    "fig, ax = plt.subplots(figsize=(6, 4))\n",
    "\n",
    "plt.ylim([0, 160])\n",
    "\n",
    "df = all_df.query('tag == \"norm\" and model == \"ak\" and param <= 500')\n",
    "\n",
    "sns.lineplot(data=df, x=\"param\", y=\"art_test_mape_lai\", label=\"LAI\")\n",
    "sns.lineplot(data=df, x=\"param\", y=\"art_test_mape_cm\", label=\"cm\")\n",
    "sns.lineplot(data=df, x=\"param\", y=\"art_test_mape_product\", label=\"AGB\")\n",
    "\n",
    "plt.xlabel(\"Max trials\")\n",
    "plt.ylabel(\"Mean absolute percentage error (%)\")\n",
    "ax.legend()\n",
    "\n",
    "plt.savefig('graphs/autokeras-art-max_trials.pdf')\n",
    "\n",
    "\"\"\"\n",
    "fig, ax = plt.subplots(figsize=(6, 4))\n",
    "\n",
    "plt.ylim([0, 20])\n",
    "\n",
    "df = all_df.query('tag == \"norm\" and model == \"ak\" and param <= 500')\n",
    "\n",
    "sns.regplot(data=df, x=\"param\", y=\"art_test_mape_lai\", robust=True, scatter=False, label=\"LAI\")\n",
    "sns.regplot(data=df, x=\"param\", y=\"art_test_mape_cm\", robust=True, scatter=False, label=\"cm\")\n",
    "sns.regplot(data=df, x=\"param\", y=\"art_test_mape_product\", robust=True, scatter=False, label=\"AGB\")\n",
    "\n",
    "plt.xlabel(\"Max trials\")\n",
    "plt.ylabel(\"Mean absolute percentage error (%)\")\n",
    "ax.legend()\n",
    "\n",
    "plt.savefig('graphs/autokeras-art-max_trials.pdf')\n",
    "\"\"\""
   ]
  },
  {
   "cell_type": "code",
   "execution_count": null,
   "id": "6afe9a35",
   "metadata": {
    "scrolled": false
   },
   "outputs": [],
   "source": [
    "fig, ax = plt.subplots(figsize=(6, 4))\n",
    "\n",
    "plt.ylim([0, 160])\n",
    "\n",
    "df = all_df.query('tag == \"norm\" and model == \"ak_agb\" and param <= 500')\n",
    "\n",
    "sns.lineplot(data=df, x=\"param\", y=\"art_test_mape_product\", label=\"AGB\", color='green')\n",
    "\n",
    "plt.xlabel(\"Max trials\")\n",
    "plt.ylabel(\"Mean absolute percentage error (%)\")\n",
    "ax.legend()\n",
    "\n",
    "plt.savefig('graphs/autokeras-art-max_trials-single.pdf')"
   ]
  },
  {
   "cell_type": "code",
   "execution_count": null,
   "id": "b4eb253d",
   "metadata": {
    "scrolled": true
   },
   "outputs": [],
   "source": [
    "fig, ax = plt.subplots(figsize=(6, 4))\n",
    "\n",
    "gen = ([r['art']['param'], r['art']['taken']] for r in get_items('ak', None))\n",
    "df = pd.DataFrame(data=gen, columns=['max_trials', 'time_taken'])\n",
    "sns.regplot(data=df.query('max_trials <= 1000'), x='max_trials', y='time_taken', logx=True, label=\"multi output\", x_estimator=np.mean)\n",
    "gen = ([r['art']['param'], r['art']['taken']] for r in get_items('ak_agb', None))\n",
    "df = pd.DataFrame(data=gen, columns=['max_trials', 'time_taken'])\n",
    "sns.regplot(data=df.query('max_trials <= 1000'), x='max_trials', y='time_taken', logx=True, label=\"single output\", x_estimator=np.mean)\n",
    "\n",
    "plt.xlabel(\"max_trials\")\n",
    "plt.ylabel(\"Time taken (s)\")\n",
    "ax.legend()\n",
    "\n",
    "plt.savefig('graphs/autokeras-max_trials-time_taken.pdf')"
   ]
  },
  {
   "cell_type": "code",
   "execution_count": null,
   "id": "6199f6ad",
   "metadata": {
    "scrolled": false
   },
   "outputs": [],
   "source": [
    "fig, ax = plt.subplots(figsize=(6, 4))\n",
    "\n",
    "plt.xlim([-1000, 17000])\n",
    "plt.ylim([-1000, 21000])\n",
    "\n",
    "sns.scatterplot(data=all_df.query('model == \"ak\"'), x='param', y='train_time', label='multi-output')\n",
    "sns.scatterplot(data=all_df.query('model == \"ak_agb\"'), x='param', y='train_time', label='single-output')\n",
    "\n",
    "plt.xlabel(\"max_trials\")\n",
    "plt.ylabel(\"Time taken (s)\")\n",
    "ax.legend()\n",
    "\n",
    "plt.savefig('graphs/autokeras-max_trials-time_taken.pdf')"
   ]
  },
  {
   "cell_type": "code",
   "execution_count": null,
   "id": "856bd962",
   "metadata": {},
   "outputs": [],
   "source": [
    "fig, ax = plt.subplots(figsize=(6, 4))\n",
    "\n",
    "plt.xlim([-1000, 17000])\n",
    "plt.ylim([-1000, 21000])\n",
    "\n",
    "sns.regplot(data=all_df.query('model == \"ak\"'), x='param', y='train_time', robust=True, label='multi-output', x_estimator=np.mean)\n",
    "sns.regplot(data=all_df.query('model == \"ak_agb\"'), x='param', y='train_time', robust=True, label='single-output', x_estimator=np.mean)\n",
    "\n",
    "plt.xlabel(\"max_trials\")\n",
    "plt.ylabel(\"Time taken (s)\")\n",
    "ax.legend()\n",
    "\n",
    "plt.savefig('graphs/autokeras-max_trials-time_taken-robust.pdf')"
   ]
  },
  {
   "cell_type": "code",
   "execution_count": null,
   "id": "fcfd2c6e",
   "metadata": {
    "scrolled": false
   },
   "outputs": [],
   "source": [
    "rows = ([r['art']['param'], r['art']['method_specific']['epochs_used']] for r in get_items('ak', None))\n",
    "df = pd.DataFrame(data=rows, columns=['max_trials', 'epochs_used'])\n",
    "\n",
    "sns.regplot(data=df, x='max_trials', y='epochs_used', robust=True, scatter=False)\n",
    "\n",
    "plt.ylabel(\"max_trials\")\n",
    "plt.ylabel(\"Epochs used\")\n",
    "\n",
    "plt.savefig('graphs/autokeras-art-max_trials-epochs_used.pdf')"
   ]
  },
  {
   "cell_type": "code",
   "execution_count": null,
   "id": "96b470c6",
   "metadata": {},
   "outputs": [],
   "source": [
    "rows = ([r['art']['param'], r['art']['method_specific']['epochs_used']] for r in get_items('ak', None))\n",
    "df = pd.DataFrame(data=rows, columns=['max_trials', 'epochs_used'])\n",
    "\n",
    "sns.kdeplot(data=df, x=\"epochs_used\", fill=True, bw_adjust=.8)\n",
    "sns.rugplot(data=df, x=\"epochs_used\")\n",
    "\n",
    "plt.xlabel(\"Epochs used\")\n",
    "plt.xlim(0, np.max(df['epochs_used']))\n",
    "\n",
    "plt.savefig('graphs/autokeras-art-kde-epochs_used.pdf')"
   ]
  },
  {
   "cell_type": "code",
   "execution_count": null,
   "id": "b25c2e0c",
   "metadata": {
    "scrolled": false
   },
   "outputs": [],
   "source": [
    "fig, ax = plt.subplots(figsize=(6, 4))\n",
    "\n",
    "df = all_df.query('tag == \"norm\"')\n",
    "sns.lineplot(data=df.query('model == \"ak\"'), x=\"param\", y=\"art_test_mape_product\", label=\"multi output\")\n",
    "sns.lineplot(data=df.query('model == \"ak_agb\"'), x=\"param\", y=\"art_test_mape_product\", label=\"single output\")\n",
    "\n",
    "plt.xlabel(\"max_trials\")\n",
    "plt.ylabel(\"Mean absolute percentage error (%)\")\n",
    "ax.legend()\n",
    "\n",
    "plt.savefig('graphs/autokeras-art-single-vs-multi.pdf')"
   ]
  },
  {
   "cell_type": "code",
   "execution_count": null,
   "id": "fd61fe29",
   "metadata": {
    "scrolled": true
   },
   "outputs": [],
   "source": [
    "fig, ax = plt.subplots(figsize=(6, 4))\n",
    "\n",
    "df = all_df.query('tag == \"norm\"')\n",
    "sns.regplot(data=df.query('model == \"ak\"'), x=\"param\", y=\"art_test_mape_product\", label=\"multi output\", logx=True, scatter=False)\n",
    "sns.regplot(data=df.query('model == \"ak_agb\"'), x=\"param\", y=\"art_test_mape_product\", label=\"single output\", logx=True, scatter=False)\n",
    "\n",
    "plt.xlabel(\"max_trials\")\n",
    "plt.ylabel(\"Mean absolute percentage error (%)\")\n",
    "ax.legend()\n",
    "\n",
    "plt.savefig('graphs/autokeras-art-single-vs-multi-regress.pdf')"
   ]
  },
  {
   "cell_type": "code",
   "execution_count": null,
   "id": "95935906",
   "metadata": {
    "scrolled": false
   },
   "outputs": [],
   "source": [
    "fig, ax = plt.subplots(figsize=(6, 4))\n",
    "\n",
    "df = all_df.query('tag == \"norm\" and model == \"ak\"')\n",
    "sns.lineplot(data=df, x=\"param\", y=\"art_test_mape_lai\", label=\"LAI\")\n",
    "sns.lineplot(data=df, x=\"param\", y=\"art_test_mape_cm\", label=\"cm\")\n",
    "sns.lineplot(data=df, x=\"param\", y=\"art_test_mape_product\", label=\"AGB\")\n",
    "\n",
    "plt.xlabel(\"max_trials\")\n",
    "plt.ylabel(\"Mean absolute percentage error (%)\")\n",
    "ax.legend()\n",
    "\n",
    "plt.savefig('graphs/autokeras-art-max_trials.pdf')"
   ]
  },
  {
   "cell_type": "code",
   "execution_count": null,
   "id": "380740f1",
   "metadata": {
    "scrolled": false
   },
   "outputs": [],
   "source": [
    "fig, ax = plt.subplots(figsize=(6, 4))\n",
    "\n",
    "df = all_df.query('tag == \"norm\" and model == \"ak\"')\n",
    "sns.regplot(data=df, x=\"param\", y=\"art_test_mape_lai\", label=\"LAI\", robust=True)\n",
    "sns.regplot(data=df, x=\"param\", y=\"art_test_mape_cm\", label=\"cm\", robust=True)\n",
    "sns.regplot(data=df, x=\"param\", y=\"art_test_mape_product\", label=\"AGB\", robust=True)\n",
    "\n",
    "plt.xlabel(\"max_trials\")\n",
    "plt.ylabel(\"Mean absolute percentage error (%)\")\n",
    "ax.legend()\n",
    "\n",
    "plt.savefig('graphs/autokeras-art-max_trials-robust.pdf')"
   ]
  },
  {
   "cell_type": "code",
   "execution_count": null,
   "id": "9add5c45",
   "metadata": {
    "scrolled": false
   },
   "outputs": [],
   "source": [
    "n = len(ak_items[0]['art']['y_test'])\n",
    "\n",
    "y_test = np.array(sum([ row['art']['y_test'] for row in ak_items ], []))\n",
    "m = np.random.choice(y_test.shape[0], n, replace=False)\n",
    "y_test = y_test[m, :]\n",
    "yhat = np.array(sum([ row['art']['yhat'] for row in ak_items ], []))\n",
    "yhat = yhat[m, :]"
   ]
  },
  {
   "cell_type": "code",
   "execution_count": null,
   "id": "7425c22a",
   "metadata": {
    "scrolled": false
   },
   "outputs": [],
   "source": [
    "plot_scatter(y_test, yhat, 'lai', 'autokeras-scatter-art-multi-lai')"
   ]
  },
  {
   "cell_type": "code",
   "execution_count": null,
   "id": "18d88fd6",
   "metadata": {
    "scrolled": false
   },
   "outputs": [],
   "source": [
    "plot_scatter(y_test, yhat, 'cm', 'autokeras-scatter-art-multi-cm')"
   ]
  },
  {
   "cell_type": "code",
   "execution_count": null,
   "id": "315e5da5",
   "metadata": {
    "scrolled": false
   },
   "outputs": [],
   "source": [
    "plot_scatter(y_test, yhat, 'agb', 'autokeras-scatter-art-multi-agb')"
   ]
  },
  {
   "cell_type": "code",
   "execution_count": null,
   "id": "aa71493a",
   "metadata": {
    "scrolled": false
   },
   "outputs": [],
   "source": [
    "n = len(ak_items[0]['art']['y_test'])\n",
    "\n",
    "y_test = np.array(sum([ row['art']['y_test'] for row in ak_agb_items ], []))\n",
    "m = np.random.choice(y_test.shape[0], n, replace=False)\n",
    "y_test = np.reshape(y_test[m], (-1,1))\n",
    "yhat = np.array(sum([ row['art']['yhat'] for row in ak_agb_items ], []))\n",
    "yhat = yhat[m, :]"
   ]
  },
  {
   "cell_type": "code",
   "execution_count": null,
   "id": "b785f0e8",
   "metadata": {
    "scrolled": true
   },
   "outputs": [],
   "source": [
    "plot_scatter(y_test, yhat, 'agb', 'autokeras-scatter-art-single-agb')"
   ]
  },
  {
   "cell_type": "markdown",
   "id": "c758018a",
   "metadata": {},
   "source": [
    "## auto-sklearn"
   ]
  },
  {
   "cell_type": "code",
   "execution_count": null,
   "id": "c7555316",
   "metadata": {
    "scrolled": false
   },
   "outputs": [],
   "source": [
    "fig, ax = plt.subplots(figsize=(6, 4))\n",
    "\n",
    "plt.ylim([0,80])\n",
    "\n",
    "df = all_df.query('tag == \"norm\" and model == \"ask\"')\n",
    "for i in df.index:\n",
    "    df.at[i, 'train_time'] = round(all_df.iloc[i].train_time / 500) * 500\n",
    "\n",
    "sns.lineplot(data=df, x=\"train_time\", y=\"art_test_mape_lai\", label=\"LAI\")\n",
    "sns.lineplot(data=df, x=\"train_time\", y=\"art_test_mape_cm\", label=\"cm\")\n",
    "sns.lineplot(data=df, x=\"train_time\", y=\"art_test_mape_product\", label=\"AGB\")\n",
    "\n",
    "plt.xlabel(\"Time taken (s)\")\n",
    "plt.ylabel(\"Mean absolute percentage error (%)\")\n",
    "ax.legend()\n",
    "\n",
    "plt.savefig('graphs/autosklearn-art-time.pdf')"
   ]
  },
  {
   "cell_type": "code",
   "execution_count": null,
   "id": "b0126794",
   "metadata": {
    "scrolled": false
   },
   "outputs": [],
   "source": [
    "fig, ax = plt.subplots(figsize=(6, 4))\n",
    "\n",
    "plt.ylim([0,80])\n",
    "\n",
    "df = all_df.query('tag == \"norm\" and model == \"ask_agb\"')\n",
    "for i in df.index:\n",
    "    df.at[i, 'train_time'] = round(all_df.iloc[i].train_time / 500) * 500\n",
    "\n",
    "sns.lineplot(data=df, x=\"train_time\", y=\"art_test_mape_product\", label=\"AGB\", color='green')\n",
    "\n",
    "plt.xlabel(\"Time taken (s)\")\n",
    "plt.ylabel(\"Mean absolute percentage error (%)\")\n",
    "ax.legend()\n",
    "\n",
    "plt.savefig('graphs/autosklearn-art-time-single.pdf')"
   ]
  },
  {
   "cell_type": "code",
   "execution_count": null,
   "id": "69efe378",
   "metadata": {
    "scrolled": false
   },
   "outputs": [],
   "source": [
    "fig, ax = plt.subplots(figsize=(6, 4))\n",
    "\n",
    "df = all_df.query('tag == \"norm\" and model == \"ask\"')\n",
    "for i in df.index:\n",
    "    df.at[i, 'train_time'] = round(all_df.iloc[i].train_time / 500) * 500\n",
    "\n",
    "sns.lineplot(data=df, x=\"train_time\", y=\"art_test_mape_product\", label=\"AGB\", color='green')\n",
    "\n",
    "plt.xlabel(\"Time taken (s)\")\n",
    "plt.ylabel(\"Mean absolute percentage error (%)\")\n",
    "ax.legend()\n",
    "\n",
    "plt.savefig('graphs/autosklearn-art-time-agb.pdf')"
   ]
  },
  {
   "cell_type": "code",
   "execution_count": null,
   "id": "3182e36c",
   "metadata": {
    "scrolled": false
   },
   "outputs": [],
   "source": [
    "n = len(ak_items[0]['art']['y_test'])\n",
    "\n",
    "y_test = np.array(sum([ row['art']['y_test'] for row in ask_items ], []))\n",
    "m = np.random.choice(y_test.shape[0], n, replace=False)\n",
    "y_test = y_test[m, :]\n",
    "yhat = np.array(sum([ row['art']['yhat'] for row in ask_items ], []))\n",
    "yhat = yhat[m, :]"
   ]
  },
  {
   "cell_type": "code",
   "execution_count": null,
   "id": "b5d7c928",
   "metadata": {
    "scrolled": false
   },
   "outputs": [],
   "source": [
    "plot_scatter(y_test, yhat, 'lai', 'autosklearn-scatter-art-multi-lai')"
   ]
  },
  {
   "cell_type": "code",
   "execution_count": null,
   "id": "cbce160d",
   "metadata": {
    "scrolled": false
   },
   "outputs": [],
   "source": [
    "plot_scatter(y_test, yhat, 'cm', 'autosklearn-scatter-art-multi-cm')"
   ]
  },
  {
   "cell_type": "code",
   "execution_count": null,
   "id": "eff6af04",
   "metadata": {
    "scrolled": false
   },
   "outputs": [],
   "source": [
    "plot_scatter(y_test, yhat, 'agb', 'autosklearn-scatter-art-multi-agb')"
   ]
  },
  {
   "cell_type": "code",
   "execution_count": null,
   "id": "7850e81f",
   "metadata": {
    "scrolled": false
   },
   "outputs": [],
   "source": [
    "n = len(ak_items[0]['art']['y_test'])\n",
    "\n",
    "y_test = np.array(sum([ row['art']['y_test'] for row in ask_agb_items ], []))\n",
    "m = np.random.choice(y_test.shape[0], n, replace=False)\n",
    "y_test = np.reshape(y_test[m], (-1,1))\n",
    "yhat = np.array(sum([ row['art']['yhat'] for row in ask_agb_items ], []))\n",
    "yhat = np.reshape(yhat[m], (-1,1))"
   ]
  },
  {
   "cell_type": "code",
   "execution_count": null,
   "id": "8e102316",
   "metadata": {
    "scrolled": true
   },
   "outputs": [],
   "source": [
    "plot_scatter(y_test, yhat, 'agb', 'autosklearn-scatter-art-single-agb')"
   ]
  },
  {
   "cell_type": "markdown",
   "id": "3875d5d6",
   "metadata": {},
   "source": [
    "## Random forests"
   ]
  },
  {
   "cell_type": "code",
   "execution_count": null,
   "id": "a52114f0",
   "metadata": {
    "scrolled": false
   },
   "outputs": [],
   "source": [
    "fig, ax = plt.subplots(figsize=(6, 4))\n",
    "\n",
    "plt.ylim([5, 25])\n",
    "\n",
    "df = all_df.query('tag == \"norm\" and model == \"rf\"')\n",
    "for i in df.index:\n",
    "    df.at[i, 'train_time'] = round(all_df.iloc[i].train_time / 500) * 500\n",
    "\n",
    "sns.lineplot(data=df, x=\"train_time\", y=\"art_test_mape_lai\", label=\"LAI\")\n",
    "sns.lineplot(data=df, x=\"train_time\", y=\"art_test_mape_cm\", label=\"cm\")\n",
    "sns.lineplot(data=df, x=\"train_time\", y=\"art_test_mape_product\", label=\"AGB\")\n",
    "\n",
    "plt.xlabel(\"Time taken (s)\")\n",
    "plt.ylabel(\"Mean absolute percentage error (%)\")\n",
    "ax.legend()\n",
    "\n",
    "plt.savefig('graphs/rf-art-time.pdf')"
   ]
  },
  {
   "cell_type": "code",
   "execution_count": null,
   "id": "20db6df9",
   "metadata": {
    "scrolled": false
   },
   "outputs": [],
   "source": [
    "fig, ax = plt.subplots(figsize=(6, 4))\n",
    "\n",
    "plt.ylim([5, 25])\n",
    "\n",
    "df = all_df.query('tag == \"norm\" and model == \"rf_agb\"')\n",
    "for i in df.index:\n",
    "    df.at[i, 'train_time'] = round(all_df.iloc[i].train_time / 500) * 500\n",
    "\n",
    "sns.lineplot(data=df, x=\"train_time\", y=\"art_test_mape_product\", label=\"AGB\", color='green')\n",
    "\n",
    "plt.xlabel(\"Time taken (s)\")\n",
    "plt.ylabel(\"Mean absolute percentage error (%)\")\n",
    "ax.legend()\n",
    "\n",
    "plt.savefig('graphs/rf-art-time-single.pdf')"
   ]
  },
  {
   "cell_type": "code",
   "execution_count": null,
   "id": "f9f11746",
   "metadata": {
    "scrolled": true
   },
   "outputs": [],
   "source": [
    "df = all_df[all_df.apply(lambda x: x['model'] == 'rf' and x['tag'] == 'norm' and x['method_specific']['x'][0] <= 100, axis=1)]\n",
    "\n",
    "items = []\n",
    "for (_, row) in df.iterrows():\n",
    "    items.append([\n",
    "        row['method_specific']['x'][0],\n",
    "        row['art_test_mape_lai'],\n",
    "        row['art_test_mape_cm'],\n",
    "        row['art_test_mape_product'],\n",
    "    ])\n",
    "    \n",
    "df = pd.DataFrame(data=items, columns=['n_estimators', 'art_test_mape_lai', 'art_test_mape_cm', 'art_test_mape_product'], copy=False)"
   ]
  },
  {
   "cell_type": "code",
   "execution_count": null,
   "id": "c12aafbe",
   "metadata": {
    "scrolled": false
   },
   "outputs": [],
   "source": [
    "n = len(ak_items[0]['art']['y_test'])\n",
    "\n",
    "y_test = np.array(sum([ row['art']['y_test'] for row in rf_items ], []))\n",
    "m = np.random.choice(y_test.shape[0], n, replace=False)\n",
    "y_test = y_test[m, :]\n",
    "yhat = np.array(sum([ row['art']['yhat'] for row in rf_items ], []))\n",
    "yhat = yhat[m, :]"
   ]
  },
  {
   "cell_type": "code",
   "execution_count": null,
   "id": "41c40b1c",
   "metadata": {},
   "outputs": [],
   "source": [
    "items = []\n",
    "for row in get_items('rf', None):\n",
    "    param = row['art']['param']\n",
    "    x = row['art']['method_specific']['x']\n",
    "    score = row['art']['test_err']['mape']['product'] * 100\n",
    "    (max_depth, min_samples_split, min_samples_leaf) = (x[0], x[1], x[2])\n",
    "    items.append([ param, max_depth, min_samples_split, min_samples_leaf, score ])\n",
    "    \n",
    "df = pd.DataFrame(data=items, columns=['param', 'max_depth', 'min_samples_split', 'min_samples_leaf', 'art_test_mape_product'], copy=False)\n",
    "df"
   ]
  },
  {
   "cell_type": "code",
   "execution_count": null,
   "id": "b71f4ba9",
   "metadata": {},
   "outputs": [],
   "source": [
    "fig, ax = plt.subplots(figsize=(6, 4))\n",
    "plt.ylim([20, 22])\n",
    "sns.lineplot(data=df, x='max_depth', y='art_test_mape_product')\n",
    "\n",
    "plt.xlabel(\"max_depth\")\n",
    "plt.ylabel(\"Mean absolute percentage error (%)\")\n",
    "\n",
    "plt.savefig('graphs/rf-max_depth-mape.pdf')"
   ]
  },
  {
   "cell_type": "code",
   "execution_count": null,
   "id": "827102e6",
   "metadata": {},
   "outputs": [],
   "source": [
    "fig, ax = plt.subplots(figsize=(6, 4))\n",
    "plt.ylim([20, 22])\n",
    "sns.lineplot(data=df, x='min_samples_split', y='art_test_mape_product')\n",
    "\n",
    "plt.xlabel(\"min_samples_split\")\n",
    "plt.ylabel(\"Mean absolute percentage error (%)\")\n",
    "\n",
    "plt.savefig('graphs/rf-min_samples_split-mape.pdf')"
   ]
  },
  {
   "cell_type": "code",
   "execution_count": null,
   "id": "ea3c6e65",
   "metadata": {},
   "outputs": [],
   "source": [
    "fig, ax = plt.subplots(figsize=(6, 4))\n",
    "plt.ylim([20, 22])\n",
    "sns.lineplot(data=df, x='min_samples_leaf', y='art_test_mape_product')\n",
    "\n",
    "plt.xlabel(\"min_samples_leaf\")\n",
    "plt.ylabel(\"Mean absolute percentage error (%)\")\n",
    "\n",
    "plt.savefig('graphs/rf-min_samples_leaf-mape.pdf')"
   ]
  },
  {
   "cell_type": "code",
   "execution_count": null,
   "id": "2e1385a7",
   "metadata": {
    "scrolled": false
   },
   "outputs": [],
   "source": [
    "plot_scatter(y_test, yhat, 'lai', 'rf-scatter-art-multi-lai')"
   ]
  },
  {
   "cell_type": "code",
   "execution_count": null,
   "id": "c5515bf9",
   "metadata": {
    "scrolled": false
   },
   "outputs": [],
   "source": [
    "plot_scatter(y_test, yhat, 'cm', 'rf-scatter-art-multi-cm')"
   ]
  },
  {
   "cell_type": "code",
   "execution_count": null,
   "id": "81e3a315",
   "metadata": {
    "scrolled": false
   },
   "outputs": [],
   "source": [
    "plot_scatter(y_test, yhat, 'agb', 'rf-scatter-art-multi-agb')"
   ]
  },
  {
   "cell_type": "code",
   "execution_count": null,
   "id": "13e6c2c2",
   "metadata": {
    "scrolled": false
   },
   "outputs": [],
   "source": [
    "n = len(ak_items[0]['art']['y_test'])\n",
    "\n",
    "y_test = np.array(sum([ row['art']['y_test'] for row in rf_agb_items ], []))\n",
    "m = np.random.choice(y_test.shape[0], n, replace=False)\n",
    "y_test = np.reshape(y_test[m], (-1,1))\n",
    "yhat = np.array(sum([ row['art']['yhat'] for row in rf_agb_items ], []))\n",
    "yhat = np.reshape(yhat[m], (-1,1))"
   ]
  },
  {
   "cell_type": "code",
   "execution_count": null,
   "id": "e01247dd",
   "metadata": {
    "scrolled": false
   },
   "outputs": [],
   "source": [
    "plot_scatter(y_test, yhat, 'agb', 'rf-scatter-art-single-agb')"
   ]
  },
  {
   "cell_type": "markdown",
   "id": "78982434",
   "metadata": {},
   "source": [
    "## Gaussian process"
   ]
  },
  {
   "cell_type": "code",
   "execution_count": null,
   "id": "b24f2a2c",
   "metadata": {
    "scrolled": false
   },
   "outputs": [],
   "source": [
    "fig, ax = plt.subplots(figsize=(6, 4))\n",
    "\n",
    "plt.ylim([0, 20])\n",
    "\n",
    "df = all_df.query('tag == \"norm\" and model == \"gp\"')\n",
    "for i in df.index:\n",
    "    df.at[i, 'train_time'] = round(all_df.iloc[i].train_time / 500) * 500\n",
    "\n",
    "sns.lineplot(data=df, x=\"train_time\", y=\"art_test_mape_lai\", label=\"LAI\")\n",
    "sns.lineplot(data=df, x=\"train_time\", y=\"art_test_mape_cm\", label=\"cm\")\n",
    "sns.lineplot(data=df, x=\"train_time\", y=\"art_test_mape_product\", label=\"AGB\")\n",
    "\n",
    "plt.xlabel(\"Time taken (s)\")\n",
    "plt.ylabel(\"Mean absolute percentage error (%)\")\n",
    "ax.legend()\n",
    "\n",
    "plt.savefig('graphs/gp-art-time.pdf')"
   ]
  },
  {
   "cell_type": "code",
   "execution_count": null,
   "id": "d05643b8",
   "metadata": {
    "scrolled": false
   },
   "outputs": [],
   "source": [
    "fig, ax = plt.subplots(figsize=(6, 4))\n",
    "\n",
    "plt.ylim([0, 20])\n",
    "\n",
    "df = all_df.query('tag == \"norm\" and model == \"gp_agb\"')\n",
    "for i in df.index:\n",
    "    df.at[i, 'train_time'] = round(all_df.iloc[i].train_time / 500) * 500\n",
    "\n",
    "sns.lineplot(data=df, x=\"train_time\", y=\"art_test_mape_product\", label=\"AGB\", color='green')\n",
    "\n",
    "plt.xlabel(\"Time taken (s)\")\n",
    "plt.ylabel(\"Mean absolute percentage error (%)\")\n",
    "ax.legend()\n",
    "\n",
    "plt.savefig('graphs/gp-art-time-single.pdf')"
   ]
  },
  {
   "cell_type": "code",
   "execution_count": null,
   "id": "66a8736c",
   "metadata": {
    "scrolled": false
   },
   "outputs": [],
   "source": [
    "fig, ax = plt.subplots(figsize=(6, 4))\n",
    "\n",
    "df = all_df.query('tag == \"norm\" and model == \"gp\"')\n",
    "for i in df.index:\n",
    "    df.at[i, 'train_time'] = round(all_df.iloc[i].train_time / 500) * 500\n",
    "\n",
    "sns.lineplot(data=df, x=\"train_time\", y=\"art_test_mape_product\", label=\"AGB\", color='green')\n",
    "\n",
    "plt.xlabel(\"Time taken (s)\")\n",
    "plt.ylabel(\"Mean absolute percentage error (%)\")\n",
    "ax.legend()\n",
    "\n",
    "plt.savefig('graphs/gp-art-time-agb.pdf')"
   ]
  },
  {
   "cell_type": "code",
   "execution_count": null,
   "id": "dc56ee59",
   "metadata": {},
   "outputs": [],
   "source": [
    "rows = ([r['art']['param'], r['art']['method_specific']['iterations']] for r in get_items('gp', None))\n",
    "df = pd.DataFrame(data=rows, columns=['max_trials', 'iterations'])\n",
    "\n",
    "sns.scatterplot(data=df, x='max_trials', y='iterations')\n",
    "\n",
    "plt.ylabel(\"Time taken (s)\")\n",
    "plt.ylabel(\"Iterations\")\n",
    "\n",
    "plt.savefig('graphs/gp-art-time-iterations.pdf')"
   ]
  },
  {
   "cell_type": "code",
   "execution_count": null,
   "id": "6627c8e2",
   "metadata": {
    "scrolled": false
   },
   "outputs": [],
   "source": [
    "df = all_df[all_df.apply(lambda x: x['model'] == 'gp' and x['tag'] == 'norm', axis=1)]\n",
    "\n",
    "items = []\n",
    "for (_, row) in df.iterrows():\n",
    "    items.append([\n",
    "        row['method_specific']['x'][-2],\n",
    "        row['method_specific']['x'][0],\n",
    "        row['art_test_mape_lai'],\n",
    "        row['art_test_mape_cm'],\n",
    "        row['art_test_mape_product'],\n",
    "    ])\n",
    "    \n",
    "df = pd.DataFrame(data=items, columns=['n_estimators', 'kernel', 'art_test_mape_lai', 'art_test_mape_cm', 'art_test_mape_product'], copy=False)"
   ]
  },
  {
   "cell_type": "code",
   "execution_count": null,
   "id": "c036fda1",
   "metadata": {
    "scrolled": false
   },
   "outputs": [],
   "source": [
    "n = len(ak_items[0]['art']['y_test'])\n",
    "\n",
    "y_test = np.array(sum([ row['art']['y_test'] for row in gp_items ], []))\n",
    "m = np.random.choice(y_test.shape[0], n, replace=False)\n",
    "y_test = y_test[m, :]\n",
    "yhat = np.array(sum([ row['art']['yhat'] for row in gp_items ], []))\n",
    "yhat = yhat[m, :]"
   ]
  },
  {
   "cell_type": "code",
   "execution_count": null,
   "id": "f48bd134",
   "metadata": {},
   "outputs": [],
   "source": [
    "items = []\n",
    "for row in get_items('gp', None):\n",
    "    param = row['art']['param']\n",
    "    x = row['art']['method_specific']['x']\n",
    "    score = row['art']['test_err']['mape']['product'] * 100\n",
    "    (kernel_name, fixed, n_restarts, alpha, scale_x, normalize_y) = (x[0], x[1], x[2], x[3], x[4], x[5])\n",
    "    items.append([ param, kernel_name, fixed, n_restarts, alpha, scale_x, normalize_y, score ])\n",
    "\n",
    "df = pd.DataFrame(data=items, columns=['param', 'kernel_name', 'fixed', 'n_restarts', 'alpha', 'scale_x', 'normalize_y', 'art_test_mape_product'], copy=False)\n",
    "df"
   ]
  },
  {
   "cell_type": "code",
   "execution_count": null,
   "id": "c48ae5e3",
   "metadata": {},
   "outputs": [],
   "source": [
    "fig, ax = plt.subplots(figsize=(6, 4))\n",
    "plt.ylim([10, 16])\n",
    "sns.lineplot(data=df, x='n_restarts', y='art_test_mape_product')\n",
    "\n",
    "plt.xlabel(\"Number of restarts\")\n",
    "plt.ylabel(\"Mean absolute percentage error (%)\")\n",
    "\n",
    "plt.savefig('graphs/gp-n_restarts-mape.pdf')"
   ]
  },
  {
   "cell_type": "code",
   "execution_count": null,
   "id": "8a657b61",
   "metadata": {},
   "outputs": [],
   "source": [
    "fig, ax = plt.subplots(figsize=(6, 4))\n",
    "plt.ylim([10, 16])\n",
    "sns.lineplot(data=df, x='alpha', y='art_test_mape_product')\n",
    "\n",
    "plt.xlabel(\"alpha\")\n",
    "plt.ylabel(\"Mean absolute percentage error (%)\")\n",
    "\n",
    "plt.savefig('graphs/gp-alpha-mape.pdf')"
   ]
  },
  {
   "cell_type": "code",
   "execution_count": null,
   "id": "29029173",
   "metadata": {},
   "outputs": [],
   "source": [
    "fig, ax = plt.subplots(figsize=(6, 4))\n",
    "plt.ylim([10, 16])\n",
    "sns.boxplot(data=df, x='kernel_name', y='art_test_mape_product')\n",
    "\n",
    "plt.xlabel(\"Kernel\")\n",
    "plt.ylabel(\"Mean absolute percentage error (%)\")\n",
    "\n",
    "plt.savefig('graphs/gp-kernel_name-mape.pdf')"
   ]
  },
  {
   "cell_type": "code",
   "execution_count": null,
   "id": "7e72cf8d",
   "metadata": {},
   "outputs": [],
   "source": [
    "fig, ax = plt.subplots(figsize=(6, 4))\n",
    "plt.ylim([10, 16])\n",
    "sns.boxplot(data=df, x='normalize_y', y='art_test_mape_product')\n",
    "\n",
    "plt.xlabel(\"Normalize y-value\")\n",
    "plt.ylabel(\"Mean absolute percentage error (%)\")\n",
    "\n",
    "plt.savefig('graphs/gp-normalize_y-mape.pdf')"
   ]
  },
  {
   "cell_type": "code",
   "execution_count": null,
   "id": "bea8d149",
   "metadata": {
    "scrolled": false
   },
   "outputs": [],
   "source": [
    "plot_scatter(y_test, yhat, 'lai', 'gp-scatter-art-multi-lai')"
   ]
  },
  {
   "cell_type": "code",
   "execution_count": null,
   "id": "dd072c19",
   "metadata": {
    "scrolled": false
   },
   "outputs": [],
   "source": [
    "plot_scatter(y_test, yhat, 'cm', 'gp-scatter-art-multi-cm')"
   ]
  },
  {
   "cell_type": "code",
   "execution_count": null,
   "id": "88e0fff9",
   "metadata": {
    "scrolled": false
   },
   "outputs": [],
   "source": [
    "plot_scatter(y_test, yhat, 'agb', 'gp-scatter-art-multi-agb')"
   ]
  },
  {
   "cell_type": "code",
   "execution_count": null,
   "id": "0a4c3247",
   "metadata": {
    "scrolled": false
   },
   "outputs": [],
   "source": [
    "n = len(ak_items[0]['art']['y_test'])\n",
    "\n",
    "y_test = np.array(sum([ row['art']['y_test'] for row in gp_agb_items ], []))\n",
    "m = np.random.choice(y_test.shape[0], n, replace=False)\n",
    "y_test = np.reshape(y_test[m], (-1,1))\n",
    "yhat = np.array(sum([ row['art']['yhat'] for row in gp_agb_items ], []))\n",
    "yhat = np.reshape(yhat[m], (-1,1))"
   ]
  },
  {
   "cell_type": "code",
   "execution_count": null,
   "id": "eb342f60",
   "metadata": {
    "scrolled": false
   },
   "outputs": [],
   "source": [
    "plot_scatter(y_test, yhat, 'agb', 'gp-scatter-art-single-agb')"
   ]
  },
  {
   "cell_type": "markdown",
   "id": "8390b73f",
   "metadata": {},
   "source": [
    "# Field Data"
   ]
  },
  {
   "cell_type": "markdown",
   "id": "ce6bec0b",
   "metadata": {},
   "source": [
    "## Combined results"
   ]
  },
  {
   "cell_type": "code",
   "execution_count": null,
   "id": "e26df4d3",
   "metadata": {
    "scrolled": true
   },
   "outputs": [],
   "source": [
    "fig, ax = plt.subplots(figsize=(6, 4))\n",
    "\n",
    "df = all_df.query('tag == \"norm\" and (model == \"ak\" or model == \"ask\" or model == \"gp\" or model == \"rf\")')\n",
    "df = df.sort_values(by='model_name')\n",
    "sns.scatterplot(x=\"train_time\", y=\"field_test_mape_product\", data=df, hue='model_name')\n",
    "\n",
    "plt.xlabel(\"Time taken (s)\")\n",
    "plt.ylabel(\"AGB Mean absolute percentage error (%)\")\n",
    "ax.legend()\n",
    "\n",
    "plt.savefig('graphs/all-field-time-scatter-multi.pdf')"
   ]
  },
  {
   "cell_type": "code",
   "execution_count": null,
   "id": "2aa27c3c",
   "metadata": {
    "scrolled": true
   },
   "outputs": [],
   "source": [
    "fig, ax = plt.subplots(figsize=(6, 4))\n",
    "\n",
    "df = all_df.query('tag == \"norm\" and (model == \"ak\" or model == \"ask\" or model == \"gp\" or model == \"rf\")')\n",
    "df = df.sort_values(by='model_name')\n",
    "for i in df.index:\n",
    "    df.at[i, 'train_time'] = round(all_df.iloc[i].train_time / 500) * 500\n",
    "\n",
    "sns.lineplot(x=\"train_time\", y=\"field_test_mape_product\", data=df, hue='model_name')\n",
    "\n",
    "plt.xlabel(\"Time taken (s)\")\n",
    "plt.ylabel(\"AGB Mean absolute percentage error (%)\")\n",
    "ax.legend()\n",
    "\n",
    "plt.savefig('graphs/all-field-time-line-multi.pdf')"
   ]
  },
  {
   "cell_type": "code",
   "execution_count": null,
   "id": "a9dfffb3",
   "metadata": {
    "scrolled": true
   },
   "outputs": [],
   "source": [
    "fig, ax = plt.subplots(figsize=(6, 4))\n",
    "\n",
    "df = all_df.query('tag == \"norm\" and (model == \"ak_agb\" or model == \"ask_agb\" or model == \"gp_agb\" or model == \"rf_agb\")')\n",
    "df = df.sort_values(by='model_name')\n",
    "sns.scatterplot(x=\"train_time\", y=\"field_test_mape_product\", data=df, hue='model_name')\n",
    "\n",
    "plt.xlabel(\"Time taken (s)\")\n",
    "plt.ylabel(\"AGB Mean absolute percentage error (%)\")\n",
    "ax.legend()\n",
    "\n",
    "plt.savefig('graphs/all-field-time-scatter-single.pdf')"
   ]
  },
  {
   "cell_type": "code",
   "execution_count": null,
   "id": "36a7848b",
   "metadata": {
    "scrolled": false
   },
   "outputs": [],
   "source": [
    "fig, ax = plt.subplots(figsize=(6, 4))\n",
    "\n",
    "df = all_df.query('tag == \"norm\" and (model == \"ak_agb\" or model == \"ask_agb\" or model == \"gp_agb\" or model == \"rf_agb\")')\n",
    "df = df.sort_values(by='model_name')\n",
    "for i in df.index:\n",
    "    df.at[i, 'train_time'] = round(all_df.iloc[i].train_time / 500) * 500\n",
    "\n",
    "sns.lineplot(x=\"train_time\", y=\"field_test_mape_product\", data=df, hue='model_name')\n",
    "\n",
    "plt.xlabel(\"Time taken (s)\")\n",
    "plt.ylabel(\"AGB Mean absolute percentage error (%)\")\n",
    "ax.legend()\n",
    "\n",
    "plt.savefig('graphs/all-field-time-line-single.pdf')"
   ]
  },
  {
   "cell_type": "code",
   "execution_count": null,
   "id": "3ea1c477",
   "metadata": {
    "scrolled": false
   },
   "outputs": [],
   "source": [
    "fig, ax = plt.subplots(figsize=(6, 4))\n",
    "\n",
    "plt.xlim([0, 60*40])\n",
    "\n",
    "ak_df = all_df.query('model == \"ak\" and tag == \"simplenoise_0.5\"')\n",
    "sns.scatterplot(x=\"train_time\", y=\"field_test_mape_product\", data=ak_df, label=\"AutoKeras\")\n",
    "ak_df = None\n",
    "\n",
    "ask_df = all_df.query('model == \"ask\" and tag == \"simplenoise_0.5\"')\n",
    "sns.scatterplot(x=\"train_time\", y=\"field_test_mape_product\", data=ask_df, label=\"Auto-sklearn\")\n",
    "ask_df = None\n",
    "\n",
    "plt.xlabel(\"Time taken (s)\")\n",
    "plt.ylabel(\"AGB Mean absolute percentage error (%)\")\n",
    "ax.legend()\n",
    "\n",
    "plt.savefig('graphs/automl-field-time-scatter.pdf')"
   ]
  },
  {
   "cell_type": "code",
   "execution_count": null,
   "id": "6c583754",
   "metadata": {
    "scrolled": false
   },
   "outputs": [],
   "source": [
    "fig, ax = plt.subplots(figsize=(6, 4))\n",
    "\n",
    "plt.xlim([0, 60*40])\n",
    "\n",
    "ak_df = all_df.query('model == \"ak\" and tag == \"simplenoise_0.5\"')\n",
    "sns.regplot(x=\"train_time\", y=\"field_test_mape_product\", data=ak_df, label=\"AutoKeras\", logx=True, scatter=False)\n",
    "ak_df = None\n",
    "\n",
    "ask_df = all_df.query('model == \"ask\" and tag == \"simplenoise_0.5\"')\n",
    "sns.regplot(x=\"train_time\", y=\"field_test_mape_product\", data=ask_df, label=\"Auto-sklearn\", logx=True, scatter=False)\n",
    "ask_df = None\n",
    "\n",
    "plt.xlabel(\"Time taken (s)\")\n",
    "plt.ylabel(\"AGB Mean absolute percentage error (%)\")\n",
    "ax.legend()\n",
    "\n",
    "plt.savefig('graphs/automl-field-time-logx.pdf')"
   ]
  },
  {
   "cell_type": "code",
   "execution_count": null,
   "id": "1de5102c",
   "metadata": {
    "scrolled": true
   },
   "outputs": [],
   "source": [
    "fig, ax = plt.subplots(figsize=(6, 4))\n",
    "\n",
    "plt.ylim([0, 420])\n",
    "\n",
    "sns.stripplot(x=\"model_name\", y=\"field_test_mape_product\", data=baseline_df_multi.query('tag == \"simplenoise_0.5\"'), color='green', label='AGB')\n",
    "\n",
    "plt.xlabel(\"Model\")\n",
    "plt.ylabel(\"Mean absolute percentage error (%)\")\n",
    "\n",
    "legend_without_duplicate_labels(ax)\n",
    "\n",
    "plt.savefig('graphs/models-strip-field-multi.pdf')"
   ]
  },
  {
   "cell_type": "code",
   "execution_count": null,
   "id": "ff310284",
   "metadata": {
    "scrolled": true
   },
   "outputs": [],
   "source": [
    "fig, ax = plt.subplots(figsize=(6, 4))\n",
    "\n",
    "plt.ylim([0, 420])\n",
    "\n",
    "sns.stripplot(x=\"model_name\", y=\"field_test_mape_product\", data=baseline_df_single.query('tag == \"simplenoise_0.5\"'), color='green', label='AGB')\n",
    "\n",
    "plt.xlabel(\"Model\")\n",
    "plt.ylabel(\"Mean absolute percentage error (%)\")\n",
    "\n",
    "legend_without_duplicate_labels(ax)\n",
    "\n",
    "plt.savefig('graphs/models-strip-field-single.pdf')"
   ]
  },
  {
   "cell_type": "code",
   "execution_count": null,
   "id": "81d6e39c",
   "metadata": {
    "scrolled": false
   },
   "outputs": [],
   "source": [
    "out = map_df_table(\n",
    "    baseline_df.query('tag == \"simplenoise_0.5\"'),\n",
    "    [ ('field_test_mae_product', 'AGB [g cm$^{-2}$] MAE') ]\n",
    ")\n",
    "print(out.to_latex(bold_rows=True, na_rep='', escape=False), file = open('graphs/all-field.tex', 'w'))\n",
    "out"
   ]
  },
  {
   "cell_type": "code",
   "execution_count": null,
   "id": "0e71da53",
   "metadata": {
    "scrolled": false
   },
   "outputs": [],
   "source": [
    "out = map_df_table(\n",
    "    baseline_df.query('tag == \"simplenoise_0.5\"'),\n",
    "    [ ('field_test_mae_product', 'AGB [g cm$^{-2}$] MAE')\n",
    "    , ('field_test_rmse_product', 'AGB [g cm$^{-2}$] RMSE')\n",
    "    , ('field_test_mape_product', 'AGB [g cm$^{-2}$] MAPE')\n",
    "    ]\n",
    ")\n",
    "print(out.to_latex(bold_rows=True, na_rep='', escape=False), file = open('graphs/all-field-full.tex', 'w'))\n",
    "out"
   ]
  },
  {
   "cell_type": "markdown",
   "id": "baf79f7d",
   "metadata": {},
   "source": [
    "## AutoKeras"
   ]
  },
  {
   "cell_type": "code",
   "execution_count": null,
   "id": "8ec29e84",
   "metadata": {
    "scrolled": false
   },
   "outputs": [],
   "source": [
    "fig, ax = plt.subplots(figsize=(6, 4))\n",
    "\n",
    "plt.xlim([0, 10000])\n",
    "\n",
    "df = all_df.query('tag == \"simplenoise_0.5\" and (model == \"ak\" or model == \"ak_agb\")')\n",
    "for i in df.index:\n",
    "    df.at[i, 'train_time'] = round(all_df.iloc[i].train_time / 500) * 500\n",
    "\n",
    "sns.lineplot(data=df.query('model == \"ak\"'), x=\"train_time\", y=\"field_test_mape_product\", label=\"Multi-output\")\n",
    "sns.lineplot(data=df.query('model == \"ak_agb\"'), x=\"train_time\", y=\"field_test_mape_product\", label=\"Single-output\")\n",
    "\n",
    "plt.xlabel(\"Time taken (s)\")\n",
    "plt.ylabel(\"Mean absolute percentage error (%)\")\n",
    "ax.legend()\n",
    "\n",
    "plt.savefig('graphs/autokeras-field-time.pdf')"
   ]
  },
  {
   "cell_type": "code",
   "execution_count": null,
   "id": "c49c7ce3",
   "metadata": {},
   "outputs": [],
   "source": [
    "fig, ax = plt.subplots(figsize=(6, 4))\n",
    "\n",
    "df = all_df.query('tag == \"simplenoise_0.5\" and (model == \"ak\" or model == \"ak_agb\")')\n",
    "\n",
    "sns.lineplot(data=df.query('model == \"ak\"'), x=\"param\", y=\"field_test_mape_product\", label=\"Multi-output\")\n",
    "sns.lineplot(data=df.query('model == \"ak_agb\"'), x=\"param\", y=\"field_test_mape_product\", label=\"Single-output\")\n",
    "\n",
    "plt.xlabel(\"Max trials\")\n",
    "plt.ylabel(\"Mean absolute percentage error (%)\")\n",
    "ax.legend()\n",
    "\n",
    "plt.savefig('graphs/autokeras-field-max_trials.pdf')"
   ]
  },
  {
   "cell_type": "code",
   "execution_count": null,
   "id": "85326a69",
   "metadata": {
    "scrolled": false
   },
   "outputs": [],
   "source": [
    "n = len(ak_items[0]['field']['y_test'])\n",
    "\n",
    "y_test = np.array(sum([ row['field']['y_test'] for row in ak_items ], []))\n",
    "m = np.random.choice(y_test.shape[0], n, replace=False)\n",
    "y_test = y_test[m, :]\n",
    "yhat = np.array(sum([ row['field']['yhat'] for row in ak_items ], []))\n",
    "yhat = np.reshape(np.prod(yhat[m, :], axis=1), (-1, 1))"
   ]
  },
  {
   "cell_type": "code",
   "execution_count": null,
   "id": "d9665d8e",
   "metadata": {
    "scrolled": false
   },
   "outputs": [],
   "source": [
    "plot_scatter(y_test, yhat, 'agb', 'autokeras-scatter-field-multi-agb')"
   ]
  },
  {
   "cell_type": "code",
   "execution_count": null,
   "id": "3a6128ed",
   "metadata": {
    "scrolled": false
   },
   "outputs": [],
   "source": [
    "n = len(ak_items[0]['field']['y_test'])\n",
    "\n",
    "y_test = np.array(sum([ row['field']['y_test'] for row in ak_agb_items ], []))\n",
    "m = np.random.choice(y_test.shape[0], n, replace=False)\n",
    "y_test = y_test[m, :]\n",
    "yhat = np.array(sum([ row['field']['yhat'] for row in ak_agb_items ], []))\n",
    "yhat = np.reshape(np.prod(yhat[m, :], axis=1), (-1, 1))"
   ]
  },
  {
   "cell_type": "code",
   "execution_count": null,
   "id": "bf5b60a8",
   "metadata": {
    "scrolled": false
   },
   "outputs": [],
   "source": [
    "plot_scatter(y_test, yhat, 'agb', 'autokeras-scatter-field-single-agb')"
   ]
  },
  {
   "cell_type": "markdown",
   "id": "40e89187",
   "metadata": {},
   "source": [
    "## auto-sklearn"
   ]
  },
  {
   "cell_type": "code",
   "execution_count": null,
   "id": "b9392c2d",
   "metadata": {
    "scrolled": false
   },
   "outputs": [],
   "source": [
    "print(y_test.shape, yhat.shape)"
   ]
  },
  {
   "cell_type": "code",
   "execution_count": null,
   "id": "000ce274",
   "metadata": {
    "scrolled": false
   },
   "outputs": [],
   "source": [
    "fig, ax = plt.subplots(figsize=(6, 4))\n",
    "\n",
    "df = all_df.query('tag == \"simplenoise_0.5\" and (model == \"ask\" or model == \"ask_agb\")')\n",
    "for i in df.index:\n",
    "    df.at[i, 'train_time'] = round(all_df.iloc[i].train_time / 500) * 500\n",
    "\n",
    "sns.lineplot(data=df.query('model == \"ask\"'), x=\"train_time\", y=\"field_test_mape_product\", label=\"Multi-output\")\n",
    "sns.lineplot(data=df.query('model == \"ask_agb\"'), x=\"train_time\", y=\"field_test_mape_product\", label=\"Single-output\")\n",
    "\n",
    "plt.xlabel(\"Time taken (s)\")\n",
    "plt.ylabel(\"Mean absolute percentage error (%)\")\n",
    "ax.legend()\n",
    "\n",
    "plt.savefig('graphs/autosklearn-field-time.pdf')"
   ]
  },
  {
   "cell_type": "code",
   "execution_count": null,
   "id": "264b7e57",
   "metadata": {
    "scrolled": false
   },
   "outputs": [],
   "source": [
    "n = len(ak_items[0]['field']['y_test'])\n",
    "\n",
    "y_test = np.array(sum([ row['field']['y_test'] for row in ask_items ], []))\n",
    "m = np.random.choice(y_test.shape[0], n, replace=False)\n",
    "y_test = y_test[m, :]\n",
    "yhat = np.array(sum([ row['field']['yhat'] for row in ask_items ], []))\n",
    "yhat = np.reshape(np.prod(yhat[m, :], axis=1), (-1, 1))"
   ]
  },
  {
   "cell_type": "code",
   "execution_count": null,
   "id": "5a019413",
   "metadata": {
    "scrolled": false
   },
   "outputs": [],
   "source": [
    "plot_scatter(y_test, yhat, 'agb', 'autosklearn-scatter-field-multi-agb')"
   ]
  },
  {
   "cell_type": "code",
   "execution_count": null,
   "id": "30fe5713",
   "metadata": {
    "scrolled": false
   },
   "outputs": [],
   "source": [
    "n = len(ak_items[0]['field']['y_test'])\n",
    "\n",
    "y_test = np.array(sum([ row['field']['y_test'] for row in ask_agb_items ], []))\n",
    "m = np.random.choice(y_test.shape[0], n, replace=False)\n",
    "y_test = y_test[m, :]\n",
    "yhat = np.array(sum([ row['field']['yhat'] for row in ask_agb_items ], []))\n",
    "yhat = np.reshape(yhat, (-1, 1))\n",
    "yhat = np.reshape(np.prod(yhat[m, :], axis=1), (-1, 1))"
   ]
  },
  {
   "cell_type": "code",
   "execution_count": null,
   "id": "9489bb22",
   "metadata": {
    "scrolled": false
   },
   "outputs": [],
   "source": [
    "plot_scatter(y_test, yhat, 'agb', 'autosklearn-scatter-field-single-agb')"
   ]
  },
  {
   "cell_type": "markdown",
   "id": "d7dffa55",
   "metadata": {},
   "source": [
    "## Random forests"
   ]
  },
  {
   "cell_type": "code",
   "execution_count": null,
   "id": "d1112c7a",
   "metadata": {
    "scrolled": false
   },
   "outputs": [],
   "source": [
    "fig, ax = plt.subplots(figsize=(6, 4))\n",
    "\n",
    "df = all_df.query('tag == \"simplenoise_0.5\" and (model == \"rf\" or model == \"rf_agb\")')\n",
    "for i in df.index:\n",
    "    df.at[i, 'train_time'] = round(all_df.iloc[i].train_time / 500) * 500\n",
    "\n",
    "sns.lineplot(data=df.query('model == \"rf\"'), x=\"train_time\", y=\"field_test_mape_product\", label=\"Multi-output\")\n",
    "sns.lineplot(data=df.query('model == \"rf_agb\"'), x=\"train_time\", y=\"field_test_mape_product\", label=\"Single-output\")\n",
    "\n",
    "plt.xlabel(\"Time taken (s)\")\n",
    "plt.ylabel(\"Mean absolute percentage error (%)\")\n",
    "ax.legend()\n",
    "\n",
    "plt.savefig('graphs/rf-field-time.pdf')"
   ]
  },
  {
   "cell_type": "code",
   "execution_count": null,
   "id": "82fe233d",
   "metadata": {
    "scrolled": false
   },
   "outputs": [],
   "source": [
    "n = len(ak_items[0]['field']['y_test'])\n",
    "\n",
    "y_test = np.array(sum([ row['field']['y_test'] for row in rf_items ], []))\n",
    "m = np.random.choice(y_test.shape[0], n, replace=False)\n",
    "y_test = y_test[m, :]\n",
    "yhat = np.array(sum([ row['field']['yhat'] for row in rf_items ], []))\n",
    "yhat = np.reshape(np.prod(yhat[m, :], axis=1), (-1, 1))"
   ]
  },
  {
   "cell_type": "code",
   "execution_count": null,
   "id": "a63da490",
   "metadata": {
    "scrolled": false
   },
   "outputs": [],
   "source": [
    "plot_scatter(y_test, yhat, 'agb', 'rf-scatter-field-multi-agb')"
   ]
  },
  {
   "cell_type": "code",
   "execution_count": null,
   "id": "3cbebfff",
   "metadata": {
    "scrolled": false
   },
   "outputs": [],
   "source": [
    "n = len(ak_items[0]['field']['y_test'])\n",
    "\n",
    "y_test = np.array(sum([ row['field']['y_test'] for row in rf_agb_items ], []))\n",
    "m = np.random.choice(y_test.shape[0], n, replace=False)\n",
    "y_test = y_test[m, :]\n",
    "yhat = np.array(sum([ row['field']['yhat'] for row in rf_agb_items ], []))\n",
    "yhat = np.reshape(yhat, (-1, 1))\n",
    "yhat = np.reshape(np.prod(yhat[m, :], axis=1), (-1, 1))"
   ]
  },
  {
   "cell_type": "code",
   "execution_count": null,
   "id": "a1b73aec",
   "metadata": {
    "scrolled": false
   },
   "outputs": [],
   "source": [
    "plot_scatter(y_test, yhat, 'agb', 'rf-scatter-field-single-agb')"
   ]
  },
  {
   "cell_type": "markdown",
   "id": "090a7ed1",
   "metadata": {},
   "source": [
    "## Gaussian process"
   ]
  },
  {
   "cell_type": "code",
   "execution_count": null,
   "id": "b431a068",
   "metadata": {
    "scrolled": false
   },
   "outputs": [],
   "source": [
    "fig, ax = plt.subplots(figsize=(6, 4))\n",
    "\n",
    "df = all_df.query('tag == \"simplenoise_0.5\" and (model == \"gp\" or model == \"gp_agb\")')\n",
    "for i in df.index:\n",
    "    df.at[i, 'train_time'] = round(all_df.iloc[i].train_time / 500) * 500\n",
    "\n",
    "sns.lineplot(data=df.query('model == \"gp\"'), x=\"train_time\", y=\"field_test_mape_product\", label=\"Multi-output\")\n",
    "sns.lineplot(data=df.query('model == \"gp_agb\"'), x=\"train_time\", y=\"field_test_mape_product\", label=\"Single-output\")\n",
    "\n",
    "plt.xlabel(\"Time taken (s)\")\n",
    "plt.ylabel(\"Mean absolute percentage error (%)\")\n",
    "ax.legend()\n",
    "\n",
    "plt.savefig('graphs/gp-field-time.pdf')"
   ]
  },
  {
   "cell_type": "code",
   "execution_count": null,
   "id": "c660696f",
   "metadata": {
    "scrolled": false
   },
   "outputs": [],
   "source": [
    "n = len(ak_items[0]['field']['y_test'])\n",
    "\n",
    "y_test = np.array(sum([ row['field']['y_test'] for row in gp_items ], []))\n",
    "m = np.random.choice(y_test.shape[0], n, replace=False)\n",
    "y_test = y_test[m, :]\n",
    "yhat = np.array(sum([ row['field']['yhat'] for row in gp_items ], []))\n",
    "yhat = np.reshape(np.prod(yhat[m, :], axis=1), (-1, 1))"
   ]
  },
  {
   "cell_type": "code",
   "execution_count": null,
   "id": "922f19ed",
   "metadata": {
    "scrolled": false
   },
   "outputs": [],
   "source": [
    "plot_scatter(y_test, yhat, 'agb', 'gp-scatter-field-multi-agb')"
   ]
  },
  {
   "cell_type": "code",
   "execution_count": null,
   "id": "3f766b7a",
   "metadata": {
    "scrolled": false
   },
   "outputs": [],
   "source": [
    "n = len(ak_items[0]['field']['y_test'])\n",
    "\n",
    "y_test = np.array(sum([ row['field']['y_test'] for row in gp_agb_items ], []))\n",
    "m = np.random.choice(y_test.shape[0], n, replace=False)\n",
    "y_test = y_test[m, :]\n",
    "yhat = np.array(sum([ row['field']['yhat'] for row in gp_agb_items ], []))\n",
    "yhat = np.reshape(np.prod(yhat[m, :], axis=1), (-1, 1))"
   ]
  },
  {
   "cell_type": "code",
   "execution_count": null,
   "id": "fc6e8d84",
   "metadata": {
    "scrolled": false
   },
   "outputs": [],
   "source": [
    "plot_scatter(y_test, yhat, 'agb', 'gp-scatter-field-single-agb')"
   ]
  }
 ],
 "metadata": {
  "kernelspec": {
   "display_name": "Python 3",
   "language": "python",
   "name": "python3"
  },
  "language_info": {
   "codemirror_mode": {
    "name": "ipython",
    "version": 3
   },
   "file_extension": ".py",
   "mimetype": "text/x-python",
   "name": "python",
   "nbconvert_exporter": "python",
   "pygments_lexer": "ipython3",
   "version": "3.8.8"
  }
 },
 "nbformat": 4,
 "nbformat_minor": 5
}
