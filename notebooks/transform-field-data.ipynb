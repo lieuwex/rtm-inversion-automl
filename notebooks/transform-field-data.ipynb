{
 "cells": [
  {
   "cell_type": "code",
   "execution_count": null,
   "id": "7d83240d",
   "metadata": {},
   "outputs": [],
   "source": [
    "import pandas as pd\n",
    "import numpy as np\n",
    "\n",
    "pd.set_option(\"display.max_rows\", None)"
   ]
  },
  {
   "cell_type": "code",
   "execution_count": null,
   "id": "0a24305c",
   "metadata": {},
   "outputs": [],
   "source": [
    "def mean(df):\n",
    "    x = df.to_numpy()\n",
    "    return np.nanmean(x, axis=1)\n",
    "\n",
    "def get_angles(df):\n",
    "    sensor_azimuth = mean(df.filter(regex='B\\d_sensor_azimuth'))\n",
    "    sensor_zenith = mean(df.filter(regex='B\\d_sensor_zenith'))\n",
    "    solar_azimuth = mean(df.filter(regex='B\\d_solar_azimuth'))\n",
    "    solar_zenith = mean(df.filter(regex='B\\d_solar_zenith'))\n",
    "    rows = np.column_stack((solar_zenith, solar_azimuth, sensor_zenith, sensor_azimuth))\n",
    "    return pd.DataFrame(data=rows, columns=['sensor_azimuth', 'sensor_zenith', 'solar_azimuth', 'solar_zenith'])\n",
    "\n",
    "def convert_angles(df):\n",
    "    tts = df['solar_zenith']\n",
    "    tto = df['sensor_zenith']\n",
    "    phi = np.abs((df['solar_azimuth']+180) - (df['sensor_azimuth']+180))\n",
    "    return pd.DataFrame({ 'tts': tts, 'tto': tto, 'phi': phi })"
   ]
  },
  {
   "cell_type": "code",
   "execution_count": null,
   "id": "c87e1513",
   "metadata": {
    "scrolled": false
   },
   "outputs": [],
   "source": [
    "df = pd.read_csv(\"./data_with_angles.csv\", index_col=0)\n",
    "df.reset_index(inplace=True)\n",
    "\n",
    "angles = convert_angles(get_angles(df))\n",
    "bands = df.filter(regex='B[123457]$') / 10_000\n",
    "\n",
    "df = df.drop(df.filter(regex='(zenith|azimuth)$').columns, axis=1)\n",
    "df = df.drop(df.filter(regex='B[123457]$').columns, axis=1)\n",
    "df = df.drop(df.filter(regex='(B6|B10)$').columns, axis=1)\n",
    "\n",
    "df = df.join(bands).join(angles)"
   ]
  },
  {
   "cell_type": "code",
   "execution_count": null,
   "id": "1b6e7f2c",
   "metadata": {},
   "outputs": [],
   "source": [
    "df = df[df['SensorType'] == 'ETM+']\n",
    "df = df.dropna(subset=['h_grass', 'c_grass'])\n",
    "df.to_csv(\"./data_with_angles_etm.csv\") \n",
    "df = df.groupby([\"S_DateNR\", \"TNAME\",\"TNUM\"]).mean()\n",
    "df = df.reset_index()\n",
    "df[:10]"
   ]
  },
  {
   "cell_type": "code",
   "execution_count": null,
   "id": "dd7ebd5b",
   "metadata": {},
   "outputs": [],
   "source": [
    "df['B1']"
   ]
  },
  {
   "cell_type": "code",
   "execution_count": null,
   "id": "19c62014",
   "metadata": {},
   "outputs": [],
   "source": [
    "df.to_csv(\"./data_with_angles_etm_grouped.csv\")"
   ]
  },
  {
   "cell_type": "code",
   "execution_count": null,
   "id": "13ef690b",
   "metadata": {},
   "outputs": [],
   "source": [
    "(df.filter(regex='^B') / 10_000).describe()"
   ]
  },
  {
   "cell_type": "code",
   "execution_count": null,
   "id": "acd699d4",
   "metadata": {},
   "outputs": [],
   "source": [
    "df2 = pd.read_csv(\"./calculated_prosail_combined.csv\", index_col=0)"
   ]
  },
  {
   "cell_type": "code",
   "execution_count": null,
   "id": "91f51529",
   "metadata": {},
   "outputs": [],
   "source": [
    "df2.filter(regex='^B').describe()"
   ]
  }
 ],
 "metadata": {
  "kernelspec": {
   "display_name": "Python 3",
   "language": "python",
   "name": "python3"
  },
  "language_info": {
   "codemirror_mode": {
    "name": "ipython",
    "version": 3
   },
   "file_extension": ".py",
   "mimetype": "text/x-python",
   "name": "python",
   "nbconvert_exporter": "python",
   "pygments_lexer": "ipython3",
   "version": "3.8.8"
  }
 },
 "nbformat": 4,
 "nbformat_minor": 5
}
