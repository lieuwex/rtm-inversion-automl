{
 "cells": [
  {
   "cell_type": "code",
   "execution_count": null,
   "id": "9ff453aa",
   "metadata": {},
   "outputs": [],
   "source": [
    "import numpy as np\n",
    "import pandas as pd"
   ]
  },
  {
   "cell_type": "code",
   "execution_count": null,
   "id": "69fe046d",
   "metadata": {},
   "outputs": [],
   "source": [
    "print(pd.read_csv('./data_with_angles.csv', index_col=0).iloc[0].to_latex())"
   ]
  },
  {
   "cell_type": "code",
   "execution_count": null,
   "id": "ae49e596",
   "metadata": {},
   "outputs": [],
   "source": [
    "file_df = pd.read_csv('./data_with_angles_etm.csv', index_col=0)"
   ]
  },
  {
   "cell_type": "code",
   "execution_count": null,
   "id": "a9af4800",
   "metadata": {
    "scrolled": false
   },
   "outputs": [],
   "source": [
    "df1 = file_df.groupby(['Year', 'Month', 'Day']).count()\n",
    "df1 = df1['ROWID'].to_frame()\n",
    "df1.columns = [ 'Count' ]\n",
    "df1"
   ]
  },
  {
   "cell_type": "code",
   "execution_count": null,
   "id": "301e6ca6",
   "metadata": {},
   "outputs": [],
   "source": [
    "items = []\n",
    "for (i, item) in file_df.iterrows():\n",
    "    (y, m, d) = (item['Year'], item['Month'], item['Day'])\n",
    "    (s_date, rs_date) = (item['S_Date'], item['RS_Date'])\n",
    "    items.append([ y, m, d, s_date, rs_date, rs_date - s_date ])\n",
    "\n",
    "df2 = pd.DataFrame(data=items, columns=['year', 'month', 'day', 'sample_date', 'rs_date', 'days_diff'], copy=False)\n",
    "df2 = df2.groupby(['year', 'month', 'day']).min()['days_diff'].to_frame()\n",
    "df2.columns = ['Days difference']\n",
    "df2.index.names = ['Year', 'Month', 'Day']\n",
    "df2"
   ]
  },
  {
   "cell_type": "code",
   "execution_count": null,
   "id": "879994ad",
   "metadata": {},
   "outputs": [],
   "source": [
    "df = df1.join(df2)\n",
    "df"
   ]
  },
  {
   "cell_type": "code",
   "execution_count": null,
   "id": "773840fc",
   "metadata": {},
   "outputs": [],
   "source": [
    "print(df.to_latex(bold_rows=False, na_rep=''), file = open('graphs/field-data-list.tex', 'w'))"
   ]
  },
  {
   "cell_type": "code",
   "execution_count": null,
   "id": "5f3ffa69",
   "metadata": {},
   "outputs": [],
   "source": []
  }
 ],
 "metadata": {
  "kernelspec": {
   "display_name": "Python 3",
   "language": "python",
   "name": "python3"
  },
  "language_info": {
   "codemirror_mode": {
    "name": "ipython",
    "version": 3
   },
   "file_extension": ".py",
   "mimetype": "text/x-python",
   "name": "python",
   "nbconvert_exporter": "python",
   "pygments_lexer": "ipython3",
   "version": "3.8.8"
  }
 },
 "nbformat": 4,
 "nbformat_minor": 5
}
