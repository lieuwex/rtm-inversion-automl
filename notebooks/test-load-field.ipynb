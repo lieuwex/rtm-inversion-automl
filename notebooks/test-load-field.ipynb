{
 "cells": [
  {
   "cell_type": "code",
   "execution_count": null,
   "id": "f5344022",
   "metadata": {},
   "outputs": [],
   "source": [
    "import pandas as pd\n",
    "import numpy as np"
   ]
  },
  {
   "cell_type": "code",
   "execution_count": null,
   "id": "eed696a4",
   "metadata": {},
   "outputs": [],
   "source": [
    "pd.read_csv('./data_with_angles_etm_grouped.csv')[:10]"
   ]
  },
  {
   "cell_type": "code",
   "execution_count": null,
   "id": "903c7f62",
   "metadata": {},
   "outputs": [],
   "source": [
    "etm_rows = pd.read_csv('./data_with_angles_etm_grouped.csv')\n",
    "\n",
    "bands = etm_rows.filter(regex='B[123457]$') / 10_000\n",
    "grass_info = etm_rows.filter(regex='_grass$')\n",
    "angles = etm_rows[['tts', 'tto', 'phi']]\n",
    "\n",
    "items = grass_info.join(bands).join(angles)\n",
    "items"
   ]
  }
 ],
 "metadata": {
  "kernelspec": {
   "display_name": "Python 3",
   "language": "python",
   "name": "python3"
  },
  "language_info": {
   "codemirror_mode": {
    "name": "ipython",
    "version": 3
   },
   "file_extension": ".py",
   "mimetype": "text/x-python",
   "name": "python",
   "nbconvert_exporter": "python",
   "pygments_lexer": "ipython3",
   "version": "3.8.8"
  }
 },
 "nbformat": 4,
 "nbformat_minor": 5
}
