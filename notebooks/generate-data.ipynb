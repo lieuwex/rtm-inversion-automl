{
 "cells": [
  {
   "cell_type": "markdown",
   "id": "925ef5cd",
   "metadata": {
    "id": "925ef5cd"
   },
   "source": [
    "### Import packages"
   ]
  },
  {
   "cell_type": "code",
   "execution_count": 1,
   "id": "bb5d8220",
   "metadata": {},
   "outputs": [],
   "source": [
    "import numpy as np\n",
    "import pandas as pd\n",
    "import prosail as prosaillib"
   ]
  },
  {
   "cell_type": "markdown",
   "id": "61684dba",
   "metadata": {},
   "source": [
    "Weird little matplotlib dance..."
   ]
  },
  {
   "cell_type": "code",
   "execution_count": 2,
   "id": "7bc30702",
   "metadata": {},
   "outputs": [
    {
     "data": {
      "text/plain": [
       "<AxesSubplot:xlabel='x', ylabel='y'>"
      ]
     },
     "execution_count": 2,
     "metadata": {},
     "output_type": "execute_result"
    },
    {
     "data": {
      "image/png": "[encoded data removed]",
      "text/plain": [
       "<Figure size 432x288 with 1 Axes>"
      ]
     },
     "metadata": {
      "needs_background": "light"
     },
     "output_type": "display_data"
    }
   ],
   "source": [
    "import matplotlib.pyplot as plt\n",
    "import seaborn as sns\n",
    "\n",
    "df = pd.DataFrame(data={ 'x': [1], 'y': [1] })\n",
    "sns.scatterplot(data=df, x=\"x\", y=\"y\")"
   ]
  },
  {
   "cell_type": "code",
   "execution_count": 3,
   "id": "d3d82999",
   "metadata": {},
   "outputs": [],
   "source": [
    "import matplotlib\n",
    "matplotlib.use(\"pgf\")\n",
    "matplotlib.rcParams.update({\n",
    "    \"pgf.texsystem\": \"pdflatex\",\n",
    "    'font.family': 'serif',\n",
    "    'text.usetex': True,\n",
    "    'pgf.rcfonts': False,\n",
    "})"
   ]
  },
  {
   "cell_type": "markdown",
   "id": "ce1ad6c1",
   "metadata": {
    "id": "ce1ad6c1"
   },
   "source": [
    "### Generate random data"
   ]
  },
  {
   "cell_type": "code",
   "execution_count": 4,
   "id": "950788bc",
   "metadata": {},
   "outputs": [],
   "source": [
    "from skopt.space.space import Real\n",
    "\n",
    "DEFAULT_DIMENSIONS = [\n",
    "    Real(low=1.5, high=1.9, name='n'),\n",
    "    Real(low=15, high=55, name='cab'),\n",
    "    #Real(low=5, high=45, name='car'),\n",
    "    #Real(low=0, high=10, name='cbrown'),\n",
    "    Real(low=0.002, high=0.01, name='cw'), # ????????\n",
    "    Real(low=0.005, high=0.010, name='cm'),\n",
    "    Real(low=0.1, high=8, name='lai'),\n",
    "    Real(low=0.05, high=0.1, name='hspot'),\n",
    "    #Real(low=-1, high=-0.99999, name='lidfa'),\n",
    "    Real(low=0, high=1, name='tts'),\n",
    "    Real(low=30, high=70, name='tto'),\n",
    "    Real(low=0, high=340, name='phi'),\n",
    "]"
   ]
  },
  {
   "cell_type": "code",
   "execution_count": 5,
   "id": "e054b6a1",
   "metadata": {},
   "outputs": [],
   "source": [
    "FILES = [\n",
    "    (10_000, \"prosail_combined\", DEFAULT_DIMENSIONS),\n",
    "]"
   ]
  },
  {
   "cell_type": "code",
   "execution_count": 6,
   "id": "a597c25c",
   "metadata": {
    "colab": {
     "base_uri": "https://localhost:8080/"
    },
    "id": "a597c25c",
    "outputId": "fbb862d3-5b64-46ee-f1f6-161a79f4081a"
   },
   "outputs": [
    {
     "data": {
      "text/plain": [
       "n          1.666809\n",
       "cab       43.812980\n",
       "cw         0.002001\n",
       "cm         0.006512\n",
       "lai        1.259372\n",
       "hspot      0.054617\n",
       "tts        0.186260\n",
       "tto       43.822429\n",
       "phi      134.900941\n",
       "Name: 0, dtype: float64"
      ]
     },
     "execution_count": 6,
     "metadata": {},
     "output_type": "execute_result"
    }
   ],
   "source": [
    "from skopt.sampler import Lhs\n",
    "\n",
    "sampler = Lhs(criterion=None)\n",
    "\n",
    "cnt = 0\n",
    "def get_random_matrix(n, dimensions):\n",
    "    global cnt\n",
    "    cnt += 1\n",
    "    \n",
    "    sampled = sampler.generate(dimensions=dimensions, n_samples=n, random_state=cnt)\n",
    "    return pd.DataFrame(data=sampled, columns=[ x.name for x in dimensions ])\n",
    "\n",
    "get_random_matrix(1, DEFAULT_DIMENSIONS).iloc[0]"
   ]
  },
  {
   "cell_type": "markdown",
   "id": "b3905262",
   "metadata": {
    "id": "b3905262"
   },
   "source": [
    "### Define some PROSAIL functions "
   ]
  },
  {
   "cell_type": "code",
   "execution_count": 7,
   "id": "c8e3adc3",
   "metadata": {
    "colab": {
     "base_uri": "https://localhost:8080/"
    },
    "id": "c8e3adc3",
    "outputId": "dab20963-ff89-49e3-ef6f-91c9cbee51bc"
   },
   "outputs": [],
   "source": [
    "def prosail(params):\n",
    "    \"\"\"\n",
    "    Helper function for prosail\n",
    "    \"\"\"\n",
    "    res = prosaillib.run_prosail(\n",
    "        n=params['n'],\n",
    "        cab=params['cab'],\n",
    "        car=10,#params['car'],\n",
    "        cbrown=0,#params['cbrown'],\n",
    "        cw=params['cw'],\n",
    "        cm=params['cm'],\n",
    "        lai=params['lai'],\n",
    "        lidfa=-1,#params['lidfa'],\n",
    "        hspot=params['hspot'],\n",
    "        tts=params['tts'],\n",
    "        tto=params['tto'],\n",
    "        psi=params['phi'],\n",
    "        typelidf=1,\n",
    "        #lidfb=-0.15,\n",
    "        #typelidf=2,\n",
    "        prospect_version=\"D\",\n",
    "        rsoil=0.5,\n",
    "        psoil=0.5,\n",
    "    )\n",
    "    return np.column_stack((np.arange(400, 2500+1), res))\n",
    "\n",
    "def parse_etm_rsr(rsr_file):\n",
    "    frames = pd.read_excel(rsr_file, sheet_name=[0, 1, 2, 3, 4, 5, 6])\n",
    "    #frames = [ frames[key] for key in frames ]\n",
    "    \n",
    "    out = frames[0]\n",
    "    for i in range(1, len(frames)):\n",
    "        out = pd.merge(out, frames[i], how=\"outer\", on=\"Wavelength\")\n",
    "        \n",
    "    if len(out.columns) > 8:\n",
    "        # HACK: on my pandas this is necessary, but not on all it seems. What is going on?\n",
    "        out = out.drop(out.columns[2], axis=1)\n",
    "        \n",
    "    out = out.fillna(0)\n",
    "    out.columns = ['Wavelength', 'B1', 'B2', 'B3', 'B4', 'B5', 'B7', 'B8']\n",
    "    return out.sort_values(by='Wavelength')\n",
    "\n",
    "def prosail_to_etm(etm_rsr, spectra):\n",
    "    sel = etm_rsr[etm_rsr['Wavelength'].between(400, 2500)]\n",
    "    \n",
    "    spectra = pd.DataFrame(data=spectra, columns=['Wavelength', 'Rho'])\n",
    "    spectra.loc[:, 'Wavelength'] *= 1000\n",
    "    \n",
    "    rho_out = sel.multiply(spectra['Rho'], axis=\"index\")\n",
    "    band_sum = sel.sum(axis=0)\n",
    "    \n",
    "    return (rho_out.sum(axis=0)/band_sum)[1:].to_numpy()\n",
    "    \n",
    "etm_rsr = parse_etm_rsr(open('./L7_ETM_RSR.xlsx', 'rb'))"
   ]
  },
  {
   "cell_type": "markdown",
   "id": "5c3ec08a",
   "metadata": {
    "id": "5c3ec08a"
   },
   "source": [
    "### Test the PROSAIL functions, with a random datapoint"
   ]
  },
  {
   "cell_type": "code",
   "execution_count": 8,
   "id": "46cc94b0",
   "metadata": {
    "colab": {
     "base_uri": "https://localhost:8080/"
    },
    "id": "46cc94b0",
    "outputId": "c8bf0575-f6d5-4926-dd09-b0e2ce1e8fa4"
   },
   "outputs": [
    {
     "data": {
      "text/plain": [
       "array([0.0070715 , 0.0396134 , 0.01940274, 0.19185559, 0.2006913 ,\n",
       "       0.19926005, 0.11249161])"
      ]
     },
     "execution_count": 8,
     "metadata": {},
     "output_type": "execute_result"
    }
   ],
   "source": [
    "prosail_to_etm(etm_rsr, prosail(get_random_matrix(1, DEFAULT_DIMENSIONS).iloc[0]))"
   ]
  },
  {
   "cell_type": "markdown",
   "id": "855e8a06",
   "metadata": {
    "id": "855e8a06"
   },
   "source": [
    "###  Generate the training set(s)"
   ]
  },
  {
   "cell_type": "code",
   "execution_count": 9,
   "id": "50081655",
   "metadata": {},
   "outputs": [],
   "source": [
    "def gen_x_y(amount, dimensions):\n",
    "    params = get_random_matrix(amount, dimensions)\n",
    "    \n",
    "    x_train_prosail = np.array([ prosail_to_etm(etm_rsr, prosail(row)) for (_, row) in params.iterrows() ])\n",
    "    #x_train_prosail = normalize(x_train_prosail, norm='max', axis=0)\n",
    "    x_train_angles = params[['tts', 'tto', 'phi']]\n",
    "    #x_train_angles = normalize(x_train_angles, norm='max')\n",
    "    x_train = np.column_stack((x_train_angles, x_train_prosail))\n",
    "    \n",
    "    y_train = np.array([ [row['lai'], row['cm']] for (_,row) in params.iterrows() ])\n",
    "    \n",
    "    return (params, x_train, y_train)"
   ]
  },
  {
   "cell_type": "code",
   "execution_count": null,
   "id": "011d4f38",
   "metadata": {
    "colab": {
     "base_uri": "https://localhost:8080/"
    },
    "id": "011d4f38",
    "outputId": "2e04684b-21e3-49f9-af64-e9bc431592e5"
   },
   "outputs": [],
   "source": [
    "%%time\n",
    "\n",
    "cols = ['tts', 'tto', 'phi', 'B1', 'B2', 'B3', 'B4', 'B5', 'B7', 'B8', 'lai', 'cm']\n",
    "\n",
    "for (amount, name, dimensions) in FILES:\n",
    "    print(\"gathering for\", name)\n",
    "    (params, x_train, y_train) = gen_x_y(amount, dimensions)\n",
    "    print(x_train[0], '->', y_train[0])\n",
    "    \n",
    "    df = pd.DataFrame(data=np.column_stack((x_train, y_train)), columns=cols)\n",
    "    df.to_csv(\"./calculated_{}.csv\".format(name))\n",
    "\n",
    "    params.to_csv('./params_{}.csv'.format(name))"
   ]
  },
  {
   "cell_type": "markdown",
   "id": "47da2ecd",
   "metadata": {},
   "source": [
    "## Generate figures"
   ]
  },
  {
   "cell_type": "code",
   "execution_count": 10,
   "id": "507dfe7f",
   "metadata": {},
   "outputs": [],
   "source": [
    "params = pd.read_csv('./params_prosail_combined.csv', index_col=0)"
   ]
  },
  {
   "cell_type": "code",
   "execution_count": 12,
   "id": "28113bf5",
   "metadata": {},
   "outputs": [
    {
     "data": {
      "text/html": [
       "<div>\n",
       "<style scoped>\n",
       "    .dataframe tbody tr th:only-of-type {\n",
       "        vertical-align: middle;\n",
       "    }\n",
       "\n",
       "    .dataframe tbody tr th {\n",
       "        vertical-align: top;\n",
       "    }\n",
       "\n",
       "    .dataframe thead th {\n",
       "        text-align: right;\n",
       "    }\n",
       "</style>\n",
       "<table border=\"1\" class=\"dataframe\">\n",
       "  <thead>\n",
       "    <tr style=\"text-align: right;\">\n",
       "      <th></th>\n",
       "      <th>low</th>\n",
       "      <th>high</th>\n",
       "    </tr>\n",
       "    <tr>\n",
       "      <th>name</th>\n",
       "      <th></th>\n",
       "      <th></th>\n",
       "    </tr>\n",
       "  </thead>\n",
       "  <tbody>\n",
       "    <tr>\n",
       "      <th>n</th>\n",
       "      <td>1.500</td>\n",
       "      <td>1.90</td>\n",
       "    </tr>\n",
       "    <tr>\n",
       "      <th>cab</th>\n",
       "      <td>15.000</td>\n",
       "      <td>55.00</td>\n",
       "    </tr>\n",
       "    <tr>\n",
       "      <th>cw</th>\n",
       "      <td>0.002</td>\n",
       "      <td>0.01</td>\n",
       "    </tr>\n",
       "    <tr>\n",
       "      <th>cm</th>\n",
       "      <td>0.005</td>\n",
       "      <td>0.01</td>\n",
       "    </tr>\n",
       "    <tr>\n",
       "      <th>lai</th>\n",
       "      <td>0.100</td>\n",
       "      <td>8.00</td>\n",
       "    </tr>\n",
       "    <tr>\n",
       "      <th>hspot</th>\n",
       "      <td>0.050</td>\n",
       "      <td>0.10</td>\n",
       "    </tr>\n",
       "    <tr>\n",
       "      <th>tts</th>\n",
       "      <td>0.000</td>\n",
       "      <td>1.00</td>\n",
       "    </tr>\n",
       "    <tr>\n",
       "      <th>tto</th>\n",
       "      <td>30.000</td>\n",
       "      <td>70.00</td>\n",
       "    </tr>\n",
       "    <tr>\n",
       "      <th>phi</th>\n",
       "      <td>0.000</td>\n",
       "      <td>340.00</td>\n",
       "    </tr>\n",
       "  </tbody>\n",
       "</table>\n",
       "</div>"
      ],
      "text/plain": [
       "          low    high\n",
       "name                 \n",
       "n       1.500    1.90\n",
       "cab    15.000   55.00\n",
       "cw      0.002    0.01\n",
       "cm      0.005    0.01\n",
       "lai     0.100    8.00\n",
       "hspot   0.050    0.10\n",
       "tts     0.000    1.00\n",
       "tto    30.000   70.00\n",
       "phi     0.000  340.00"
      ]
     },
     "execution_count": 12,
     "metadata": {},
     "output_type": "execute_result"
    }
   ],
   "source": [
    "df = pd.DataFrame(data=[ [ r.name, *r.bounds ] for r in FILES[0][2] ], columns=['name', 'low', 'high']).set_index('name')\n",
    "print(df.to_latex(bold_rows=True), file = open('graphs/param-space.tex', 'w'))\n",
    "df"
   ]
  },
  {
   "cell_type": "code",
   "execution_count": 13,
   "id": "6d8d0c53",
   "metadata": {},
   "outputs": [
    {
     "name": "stderr",
     "output_type": "stream",
     "text": [
      "/opt/conda/lib/python3.8/site-packages/seaborn/distributions.py:2557: FutureWarning: `distplot` is a deprecated function and will be removed in a future version. Please adapt your code to use either `displot` (a figure-level function with similar flexibility) or `histplot` (an axes-level function for histograms).\n",
      "  warnings.warn(msg, FutureWarning)\n"
     ]
    },
    {
     "data": {
      "image/png": "[encoded data removed]",
      "text/plain": [
       "<Figure size 432x288 with 1 Axes>"
      ]
     },
     "metadata": {
      "needs_background": "light"
     },
     "output_type": "display_data"
    }
   ],
   "source": [
    "plt.xlabel(\"cm\")\n",
    "sns.distplot(params['cm'])\n",
    "plt.savefig('graphs/dist-cm.pdf')"
   ]
  },
  {
   "cell_type": "code",
   "execution_count": 14,
   "id": "9dfa213c",
   "metadata": {},
   "outputs": [
    {
     "name": "stderr",
     "output_type": "stream",
     "text": [
      "/opt/conda/lib/python3.8/site-packages/seaborn/distributions.py:2557: FutureWarning: `distplot` is a deprecated function and will be removed in a future version. Please adapt your code to use either `displot` (a figure-level function with similar flexibility) or `histplot` (an axes-level function for histograms).\n",
      "  warnings.warn(msg, FutureWarning)\n"
     ]
    },
    {
     "data": {
      "image/png": "[encoded data removed]",
      "text/plain": [
       "<Figure size 432x288 with 1 Axes>"
      ]
     },
     "metadata": {
      "needs_background": "light"
     },
     "output_type": "display_data"
    }
   ],
   "source": [
    "plt.xlabel(\"LAI\")\n",
    "sns.distplot(params['lai'])\n",
    "plt.savefig('graphs/dist-lai.pdf')"
   ]
  },
  {
   "cell_type": "code",
   "execution_count": 15,
   "id": "b10e4ea4",
   "metadata": {},
   "outputs": [
    {
     "name": "stderr",
     "output_type": "stream",
     "text": [
      "/opt/conda/lib/python3.8/site-packages/seaborn/distributions.py:2557: FutureWarning: `distplot` is a deprecated function and will be removed in a future version. Please adapt your code to use either `displot` (a figure-level function with similar flexibility) or `histplot` (an axes-level function for histograms).\n",
      "  warnings.warn(msg, FutureWarning)\n"
     ]
    },
    {
     "data": {
      "image/png": "[encoded data removed]",
      "text/plain": [
       "<Figure size 432x288 with 1 Axes>"
      ]
     },
     "metadata": {
      "needs_background": "light"
     },
     "output_type": "display_data"
    }
   ],
   "source": [
    "plt.xlabel(\"AGB\")\n",
    "sns.distplot(params['lai'] * params['cm'])\n",
    "plt.savefig('graphs/dist-agb.pdf')"
   ]
  },
  {
   "cell_type": "markdown",
   "id": "9f542ff8",
   "metadata": {},
   "source": [
    "### PROSAIL graph"
   ]
  },
  {
   "cell_type": "code",
   "execution_count": 16,
   "id": "3d8f03a0",
   "metadata": {},
   "outputs": [],
   "source": [
    "y = [ prosail(row) for (i, row) in params.iterrows() if i < 5000 ]"
   ]
  },
  {
   "cell_type": "code",
   "execution_count": 17,
   "id": "47ab7015",
   "metadata": {},
   "outputs": [
    {
     "data": {
      "text/html": [
       "<div>\n",
       "<style scoped>\n",
       "    .dataframe tbody tr th:only-of-type {\n",
       "        vertical-align: middle;\n",
       "    }\n",
       "\n",
       "    .dataframe tbody tr th {\n",
       "        vertical-align: top;\n",
       "    }\n",
       "\n",
       "    .dataframe thead th {\n",
       "        text-align: right;\n",
       "    }\n",
       "</style>\n",
       "<table border=\"1\" class=\"dataframe\">\n",
       "  <thead>\n",
       "    <tr style=\"text-align: right;\">\n",
       "      <th></th>\n",
       "      <th>wavelength</th>\n",
       "      <th>rho</th>\n",
       "    </tr>\n",
       "  </thead>\n",
       "  <tbody>\n",
       "    <tr>\n",
       "      <th>0</th>\n",
       "      <td>400.0</td>\n",
       "      <td>0.004937</td>\n",
       "    </tr>\n",
       "    <tr>\n",
       "      <th>1</th>\n",
       "      <td>401.0</td>\n",
       "      <td>0.004936</td>\n",
       "    </tr>\n",
       "    <tr>\n",
       "      <th>2</th>\n",
       "      <td>402.0</td>\n",
       "      <td>0.004935</td>\n",
       "    </tr>\n",
       "    <tr>\n",
       "      <th>3</th>\n",
       "      <td>403.0</td>\n",
       "      <td>0.004934</td>\n",
       "    </tr>\n",
       "    <tr>\n",
       "      <th>4</th>\n",
       "      <td>404.0</td>\n",
       "      <td>0.004934</td>\n",
       "    </tr>\n",
       "    <tr>\n",
       "      <th>5</th>\n",
       "      <td>405.0</td>\n",
       "      <td>0.004934</td>\n",
       "    </tr>\n",
       "    <tr>\n",
       "      <th>6</th>\n",
       "      <td>406.0</td>\n",
       "      <td>0.004923</td>\n",
       "    </tr>\n",
       "    <tr>\n",
       "      <th>7</th>\n",
       "      <td>407.0</td>\n",
       "      <td>0.004913</td>\n",
       "    </tr>\n",
       "    <tr>\n",
       "      <th>8</th>\n",
       "      <td>408.0</td>\n",
       "      <td>0.004904</td>\n",
       "    </tr>\n",
       "    <tr>\n",
       "      <th>9</th>\n",
       "      <td>409.0</td>\n",
       "      <td>0.004894</td>\n",
       "    </tr>\n",
       "  </tbody>\n",
       "</table>\n",
       "</div>"
      ],
      "text/plain": [
       "   wavelength       rho\n",
       "0       400.0  0.004937\n",
       "1       401.0  0.004936\n",
       "2       402.0  0.004935\n",
       "3       403.0  0.004934\n",
       "4       404.0  0.004934\n",
       "5       405.0  0.004934\n",
       "6       406.0  0.004923\n",
       "7       407.0  0.004913\n",
       "8       408.0  0.004904\n",
       "9       409.0  0.004894"
      ]
     },
     "execution_count": 17,
     "metadata": {},
     "output_type": "execute_result"
    }
   ],
   "source": [
    "res = []\n",
    "for item in y:\n",
    "    for row in item:\n",
    "        res.append([row[0], row[1]])\n",
    "        \n",
    "df = pd.DataFrame(data=res, columns=[\"wavelength\", \"rho\"], copy=False)\n",
    "df[:10]"
   ]
  },
  {
   "cell_type": "code",
   "execution_count": 18,
   "id": "e806fe46",
   "metadata": {},
   "outputs": [
    {
     "data": {
      "image/png": "[encoded data removed]",
      "text/plain": [
       "<Figure size 432x288 with 1 Axes>"
      ]
     },
     "metadata": {
      "needs_background": "light"
     },
     "output_type": "display_data"
    }
   ],
   "source": [
    "import seaborn as sns\n",
    "import matplotlib.pyplot as plt\n",
    "\n",
    "plot = sns.lineplot(x=\"wavelength\", y=\"rho\", data=df)\n",
    "plt.xlabel(\"Wavelength (nm)\")\n",
    "plt.ylabel(\"Reflectance\")\n",
    "plt.savefig('graphs/prosail.pdf')"
   ]
  }
 ],
 "metadata": {
  "colab": {
   "collapsed_sections": [],
   "name": "adanet",
   "provenance": []
  },
  "kernelspec": {
   "display_name": "Python 3",
   "language": "python",
   "name": "python3"
  },
  "language_info": {
   "codemirror_mode": {
    "name": "ipython",
    "version": 3
   },
   "file_extension": ".py",
   "mimetype": "text/x-python",
   "name": "python",
   "nbconvert_exporter": "python",
   "pygments_lexer": "ipython3",
   "version": "3.8.8"
  }
 },
 "nbformat": 4,
 "nbformat_minor": 5
}
